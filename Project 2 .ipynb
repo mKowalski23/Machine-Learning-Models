{
 "cells": [
  {
   "cell_type": "code",
   "execution_count": 633,
   "id": "1e14b00d-fb53-4899-81b3-32c69fec04ba",
   "metadata": {},
   "outputs": [],
   "source": [
    "from sklearn.linear_model import LogisticRegression \n",
    "from sklearn.model_selection import train_test_split\n",
    "from sklearn.metrics import accuracy_score\n",
    "from sklearn.preprocessing import StandardScaler \n",
    "import pandas as pd\n",
    "import numpy as np\n",
    "import matplotlib.pyplot as plt\n",
    "import os \n",
    "from sklearn.metrics import mean_squared_error\n",
    "from sklearn.model_selection import GridSearchCV"
   ]
  },
  {
   "cell_type": "code",
   "execution_count": 635,
   "id": "e9377676-38e1-43fb-939f-21fb9c1712d2",
   "metadata": {},
   "outputs": [],
   "source": [
    "os.chdir(r\"C:\\Users\\mlesa\\OneDrive\\Desktop\\download files\")"
   ]
  },
  {
   "cell_type": "code",
   "execution_count": 637,
   "id": "c9e449d1-9969-4919-9c0f-69272a9f141c",
   "metadata": {},
   "outputs": [],
   "source": [
    "df = pd.read_csv(\"loan_data.csv\")"
   ]
  },
  {
   "cell_type": "code",
   "execution_count": 639,
   "id": "9b239da5-1319-4171-ae43-be8a41b1a132",
   "metadata": {},
   "outputs": [
    {
     "data": {
      "text/plain": [
       "person_age                        0\n",
       "person_gender                     0\n",
       "person_education                  0\n",
       "person_income                     0\n",
       "person_emp_exp                    0\n",
       "person_home_ownership             0\n",
       "loan_amnt                         0\n",
       "loan_intent                       0\n",
       "loan_int_rate                     0\n",
       "loan_percent_income               0\n",
       "cb_person_cred_hist_length        0\n",
       "credit_score                      0\n",
       "previous_loan_defaults_on_file    0\n",
       "loan_status                       0\n",
       "dtype: int64"
      ]
     },
     "execution_count": 639,
     "metadata": {},
     "output_type": "execute_result"
    }
   ],
   "source": [
    "df.isnull().sum()"
   ]
  },
  {
   "cell_type": "code",
   "execution_count": 641,
   "id": "a475528d-6419-49c9-925e-ea02b09e896a",
   "metadata": {},
   "outputs": [],
   "source": [
    "df = pd.get_dummies(df, columns = ['loan_intent','person_home_ownership', 'person_education'])"
   ]
  },
  {
   "cell_type": "code",
   "execution_count": 643,
   "id": "d7357043-df95-46ce-985f-c6ac33c33ae5",
   "metadata": {},
   "outputs": [
    {
     "data": {
      "text/html": [
       "<div>\n",
       "<style scoped>\n",
       "    .dataframe tbody tr th:only-of-type {\n",
       "        vertical-align: middle;\n",
       "    }\n",
       "\n",
       "    .dataframe tbody tr th {\n",
       "        vertical-align: top;\n",
       "    }\n",
       "\n",
       "    .dataframe thead th {\n",
       "        text-align: right;\n",
       "    }\n",
       "</style>\n",
       "<table border=\"1\" class=\"dataframe\">\n",
       "  <thead>\n",
       "    <tr style=\"text-align: right;\">\n",
       "      <th></th>\n",
       "      <th>person_age</th>\n",
       "      <th>person_gender</th>\n",
       "      <th>person_income</th>\n",
       "      <th>person_emp_exp</th>\n",
       "      <th>loan_amnt</th>\n",
       "      <th>loan_int_rate</th>\n",
       "      <th>loan_percent_income</th>\n",
       "      <th>cb_person_cred_hist_length</th>\n",
       "      <th>credit_score</th>\n",
       "      <th>previous_loan_defaults_on_file</th>\n",
       "      <th>...</th>\n",
       "      <th>loan_intent_VENTURE</th>\n",
       "      <th>person_home_ownership_MORTGAGE</th>\n",
       "      <th>person_home_ownership_OTHER</th>\n",
       "      <th>person_home_ownership_OWN</th>\n",
       "      <th>person_home_ownership_RENT</th>\n",
       "      <th>person_education_Associate</th>\n",
       "      <th>person_education_Bachelor</th>\n",
       "      <th>person_education_Doctorate</th>\n",
       "      <th>person_education_High School</th>\n",
       "      <th>person_education_Master</th>\n",
       "    </tr>\n",
       "  </thead>\n",
       "  <tbody>\n",
       "    <tr>\n",
       "      <th>0</th>\n",
       "      <td>22.0</td>\n",
       "      <td>female</td>\n",
       "      <td>71948.0</td>\n",
       "      <td>0</td>\n",
       "      <td>35000.0</td>\n",
       "      <td>16.02</td>\n",
       "      <td>0.49</td>\n",
       "      <td>3.0</td>\n",
       "      <td>561</td>\n",
       "      <td>No</td>\n",
       "      <td>...</td>\n",
       "      <td>False</td>\n",
       "      <td>False</td>\n",
       "      <td>False</td>\n",
       "      <td>False</td>\n",
       "      <td>True</td>\n",
       "      <td>False</td>\n",
       "      <td>False</td>\n",
       "      <td>False</td>\n",
       "      <td>False</td>\n",
       "      <td>True</td>\n",
       "    </tr>\n",
       "    <tr>\n",
       "      <th>1</th>\n",
       "      <td>21.0</td>\n",
       "      <td>female</td>\n",
       "      <td>12282.0</td>\n",
       "      <td>0</td>\n",
       "      <td>1000.0</td>\n",
       "      <td>11.14</td>\n",
       "      <td>0.08</td>\n",
       "      <td>2.0</td>\n",
       "      <td>504</td>\n",
       "      <td>Yes</td>\n",
       "      <td>...</td>\n",
       "      <td>False</td>\n",
       "      <td>False</td>\n",
       "      <td>False</td>\n",
       "      <td>True</td>\n",
       "      <td>False</td>\n",
       "      <td>False</td>\n",
       "      <td>False</td>\n",
       "      <td>False</td>\n",
       "      <td>True</td>\n",
       "      <td>False</td>\n",
       "    </tr>\n",
       "    <tr>\n",
       "      <th>2</th>\n",
       "      <td>25.0</td>\n",
       "      <td>female</td>\n",
       "      <td>12438.0</td>\n",
       "      <td>3</td>\n",
       "      <td>5500.0</td>\n",
       "      <td>12.87</td>\n",
       "      <td>0.44</td>\n",
       "      <td>3.0</td>\n",
       "      <td>635</td>\n",
       "      <td>No</td>\n",
       "      <td>...</td>\n",
       "      <td>False</td>\n",
       "      <td>True</td>\n",
       "      <td>False</td>\n",
       "      <td>False</td>\n",
       "      <td>False</td>\n",
       "      <td>False</td>\n",
       "      <td>False</td>\n",
       "      <td>False</td>\n",
       "      <td>True</td>\n",
       "      <td>False</td>\n",
       "    </tr>\n",
       "    <tr>\n",
       "      <th>3</th>\n",
       "      <td>23.0</td>\n",
       "      <td>female</td>\n",
       "      <td>79753.0</td>\n",
       "      <td>0</td>\n",
       "      <td>35000.0</td>\n",
       "      <td>15.23</td>\n",
       "      <td>0.44</td>\n",
       "      <td>2.0</td>\n",
       "      <td>675</td>\n",
       "      <td>No</td>\n",
       "      <td>...</td>\n",
       "      <td>False</td>\n",
       "      <td>False</td>\n",
       "      <td>False</td>\n",
       "      <td>False</td>\n",
       "      <td>True</td>\n",
       "      <td>False</td>\n",
       "      <td>True</td>\n",
       "      <td>False</td>\n",
       "      <td>False</td>\n",
       "      <td>False</td>\n",
       "    </tr>\n",
       "    <tr>\n",
       "      <th>4</th>\n",
       "      <td>24.0</td>\n",
       "      <td>male</td>\n",
       "      <td>66135.0</td>\n",
       "      <td>1</td>\n",
       "      <td>35000.0</td>\n",
       "      <td>14.27</td>\n",
       "      <td>0.53</td>\n",
       "      <td>4.0</td>\n",
       "      <td>586</td>\n",
       "      <td>No</td>\n",
       "      <td>...</td>\n",
       "      <td>False</td>\n",
       "      <td>False</td>\n",
       "      <td>False</td>\n",
       "      <td>False</td>\n",
       "      <td>True</td>\n",
       "      <td>False</td>\n",
       "      <td>False</td>\n",
       "      <td>False</td>\n",
       "      <td>False</td>\n",
       "      <td>True</td>\n",
       "    </tr>\n",
       "    <tr>\n",
       "      <th>...</th>\n",
       "      <td>...</td>\n",
       "      <td>...</td>\n",
       "      <td>...</td>\n",
       "      <td>...</td>\n",
       "      <td>...</td>\n",
       "      <td>...</td>\n",
       "      <td>...</td>\n",
       "      <td>...</td>\n",
       "      <td>...</td>\n",
       "      <td>...</td>\n",
       "      <td>...</td>\n",
       "      <td>...</td>\n",
       "      <td>...</td>\n",
       "      <td>...</td>\n",
       "      <td>...</td>\n",
       "      <td>...</td>\n",
       "      <td>...</td>\n",
       "      <td>...</td>\n",
       "      <td>...</td>\n",
       "      <td>...</td>\n",
       "      <td>...</td>\n",
       "    </tr>\n",
       "    <tr>\n",
       "      <th>44995</th>\n",
       "      <td>27.0</td>\n",
       "      <td>male</td>\n",
       "      <td>47971.0</td>\n",
       "      <td>6</td>\n",
       "      <td>15000.0</td>\n",
       "      <td>15.66</td>\n",
       "      <td>0.31</td>\n",
       "      <td>3.0</td>\n",
       "      <td>645</td>\n",
       "      <td>No</td>\n",
       "      <td>...</td>\n",
       "      <td>False</td>\n",
       "      <td>False</td>\n",
       "      <td>False</td>\n",
       "      <td>False</td>\n",
       "      <td>True</td>\n",
       "      <td>True</td>\n",
       "      <td>False</td>\n",
       "      <td>False</td>\n",
       "      <td>False</td>\n",
       "      <td>False</td>\n",
       "    </tr>\n",
       "    <tr>\n",
       "      <th>44996</th>\n",
       "      <td>37.0</td>\n",
       "      <td>female</td>\n",
       "      <td>65800.0</td>\n",
       "      <td>17</td>\n",
       "      <td>9000.0</td>\n",
       "      <td>14.07</td>\n",
       "      <td>0.14</td>\n",
       "      <td>11.0</td>\n",
       "      <td>621</td>\n",
       "      <td>No</td>\n",
       "      <td>...</td>\n",
       "      <td>False</td>\n",
       "      <td>False</td>\n",
       "      <td>False</td>\n",
       "      <td>False</td>\n",
       "      <td>True</td>\n",
       "      <td>True</td>\n",
       "      <td>False</td>\n",
       "      <td>False</td>\n",
       "      <td>False</td>\n",
       "      <td>False</td>\n",
       "    </tr>\n",
       "    <tr>\n",
       "      <th>44997</th>\n",
       "      <td>33.0</td>\n",
       "      <td>male</td>\n",
       "      <td>56942.0</td>\n",
       "      <td>7</td>\n",
       "      <td>2771.0</td>\n",
       "      <td>10.02</td>\n",
       "      <td>0.05</td>\n",
       "      <td>10.0</td>\n",
       "      <td>668</td>\n",
       "      <td>No</td>\n",
       "      <td>...</td>\n",
       "      <td>False</td>\n",
       "      <td>False</td>\n",
       "      <td>False</td>\n",
       "      <td>False</td>\n",
       "      <td>True</td>\n",
       "      <td>True</td>\n",
       "      <td>False</td>\n",
       "      <td>False</td>\n",
       "      <td>False</td>\n",
       "      <td>False</td>\n",
       "    </tr>\n",
       "    <tr>\n",
       "      <th>44998</th>\n",
       "      <td>29.0</td>\n",
       "      <td>male</td>\n",
       "      <td>33164.0</td>\n",
       "      <td>4</td>\n",
       "      <td>12000.0</td>\n",
       "      <td>13.23</td>\n",
       "      <td>0.36</td>\n",
       "      <td>6.0</td>\n",
       "      <td>604</td>\n",
       "      <td>No</td>\n",
       "      <td>...</td>\n",
       "      <td>False</td>\n",
       "      <td>False</td>\n",
       "      <td>False</td>\n",
       "      <td>False</td>\n",
       "      <td>True</td>\n",
       "      <td>False</td>\n",
       "      <td>True</td>\n",
       "      <td>False</td>\n",
       "      <td>False</td>\n",
       "      <td>False</td>\n",
       "    </tr>\n",
       "    <tr>\n",
       "      <th>44999</th>\n",
       "      <td>24.0</td>\n",
       "      <td>male</td>\n",
       "      <td>51609.0</td>\n",
       "      <td>1</td>\n",
       "      <td>6665.0</td>\n",
       "      <td>17.05</td>\n",
       "      <td>0.13</td>\n",
       "      <td>3.0</td>\n",
       "      <td>628</td>\n",
       "      <td>No</td>\n",
       "      <td>...</td>\n",
       "      <td>False</td>\n",
       "      <td>False</td>\n",
       "      <td>False</td>\n",
       "      <td>False</td>\n",
       "      <td>True</td>\n",
       "      <td>False</td>\n",
       "      <td>False</td>\n",
       "      <td>False</td>\n",
       "      <td>True</td>\n",
       "      <td>False</td>\n",
       "    </tr>\n",
       "  </tbody>\n",
       "</table>\n",
       "<p>45000 rows × 26 columns</p>\n",
       "</div>"
      ],
      "text/plain": [
       "       person_age person_gender  person_income  person_emp_exp  loan_amnt  \\\n",
       "0            22.0        female        71948.0               0    35000.0   \n",
       "1            21.0        female        12282.0               0     1000.0   \n",
       "2            25.0        female        12438.0               3     5500.0   \n",
       "3            23.0        female        79753.0               0    35000.0   \n",
       "4            24.0          male        66135.0               1    35000.0   \n",
       "...           ...           ...            ...             ...        ...   \n",
       "44995        27.0          male        47971.0               6    15000.0   \n",
       "44996        37.0        female        65800.0              17     9000.0   \n",
       "44997        33.0          male        56942.0               7     2771.0   \n",
       "44998        29.0          male        33164.0               4    12000.0   \n",
       "44999        24.0          male        51609.0               1     6665.0   \n",
       "\n",
       "       loan_int_rate  loan_percent_income  cb_person_cred_hist_length  \\\n",
       "0              16.02                 0.49                         3.0   \n",
       "1              11.14                 0.08                         2.0   \n",
       "2              12.87                 0.44                         3.0   \n",
       "3              15.23                 0.44                         2.0   \n",
       "4              14.27                 0.53                         4.0   \n",
       "...              ...                  ...                         ...   \n",
       "44995          15.66                 0.31                         3.0   \n",
       "44996          14.07                 0.14                        11.0   \n",
       "44997          10.02                 0.05                        10.0   \n",
       "44998          13.23                 0.36                         6.0   \n",
       "44999          17.05                 0.13                         3.0   \n",
       "\n",
       "       credit_score previous_loan_defaults_on_file  ...  loan_intent_VENTURE  \\\n",
       "0               561                             No  ...                False   \n",
       "1               504                            Yes  ...                False   \n",
       "2               635                             No  ...                False   \n",
       "3               675                             No  ...                False   \n",
       "4               586                             No  ...                False   \n",
       "...             ...                            ...  ...                  ...   \n",
       "44995           645                             No  ...                False   \n",
       "44996           621                             No  ...                False   \n",
       "44997           668                             No  ...                False   \n",
       "44998           604                             No  ...                False   \n",
       "44999           628                             No  ...                False   \n",
       "\n",
       "       person_home_ownership_MORTGAGE  person_home_ownership_OTHER  \\\n",
       "0                               False                        False   \n",
       "1                               False                        False   \n",
       "2                                True                        False   \n",
       "3                               False                        False   \n",
       "4                               False                        False   \n",
       "...                               ...                          ...   \n",
       "44995                           False                        False   \n",
       "44996                           False                        False   \n",
       "44997                           False                        False   \n",
       "44998                           False                        False   \n",
       "44999                           False                        False   \n",
       "\n",
       "       person_home_ownership_OWN  person_home_ownership_RENT  \\\n",
       "0                          False                        True   \n",
       "1                           True                       False   \n",
       "2                          False                       False   \n",
       "3                          False                        True   \n",
       "4                          False                        True   \n",
       "...                          ...                         ...   \n",
       "44995                      False                        True   \n",
       "44996                      False                        True   \n",
       "44997                      False                        True   \n",
       "44998                      False                        True   \n",
       "44999                      False                        True   \n",
       "\n",
       "       person_education_Associate  person_education_Bachelor  \\\n",
       "0                           False                      False   \n",
       "1                           False                      False   \n",
       "2                           False                      False   \n",
       "3                           False                       True   \n",
       "4                           False                      False   \n",
       "...                           ...                        ...   \n",
       "44995                        True                      False   \n",
       "44996                        True                      False   \n",
       "44997                        True                      False   \n",
       "44998                       False                       True   \n",
       "44999                       False                      False   \n",
       "\n",
       "       person_education_Doctorate  person_education_High School  \\\n",
       "0                           False                         False   \n",
       "1                           False                          True   \n",
       "2                           False                          True   \n",
       "3                           False                         False   \n",
       "4                           False                         False   \n",
       "...                           ...                           ...   \n",
       "44995                       False                         False   \n",
       "44996                       False                         False   \n",
       "44997                       False                         False   \n",
       "44998                       False                         False   \n",
       "44999                       False                          True   \n",
       "\n",
       "       person_education_Master  \n",
       "0                         True  \n",
       "1                        False  \n",
       "2                        False  \n",
       "3                        False  \n",
       "4                         True  \n",
       "...                        ...  \n",
       "44995                    False  \n",
       "44996                    False  \n",
       "44997                    False  \n",
       "44998                    False  \n",
       "44999                    False  \n",
       "\n",
       "[45000 rows x 26 columns]"
      ]
     },
     "execution_count": 643,
     "metadata": {},
     "output_type": "execute_result"
    }
   ],
   "source": [
    "df"
   ]
  },
  {
   "cell_type": "code",
   "execution_count": 645,
   "id": "19b2f053-a234-4891-9420-74bddbfb20e1",
   "metadata": {},
   "outputs": [
    {
     "data": {
      "text/plain": [
       "person_age                        0\n",
       "person_gender                     0\n",
       "person_income                     0\n",
       "person_emp_exp                    0\n",
       "loan_amnt                         0\n",
       "loan_int_rate                     0\n",
       "loan_percent_income               0\n",
       "cb_person_cred_hist_length        0\n",
       "credit_score                      0\n",
       "previous_loan_defaults_on_file    0\n",
       "loan_status                       0\n",
       "loan_intent_DEBTCONSOLIDATION     0\n",
       "loan_intent_EDUCATION             0\n",
       "loan_intent_HOMEIMPROVEMENT       0\n",
       "loan_intent_MEDICAL               0\n",
       "loan_intent_PERSONAL              0\n",
       "loan_intent_VENTURE               0\n",
       "person_home_ownership_MORTGAGE    0\n",
       "person_home_ownership_OTHER       0\n",
       "person_home_ownership_OWN         0\n",
       "person_home_ownership_RENT        0\n",
       "person_education_Associate        0\n",
       "person_education_Bachelor         0\n",
       "person_education_Doctorate        0\n",
       "person_education_High School      0\n",
       "person_education_Master           0\n",
       "dtype: int64"
      ]
     },
     "execution_count": 645,
     "metadata": {},
     "output_type": "execute_result"
    }
   ],
   "source": [
    "df.isnull().sum()"
   ]
  },
  {
   "cell_type": "code",
   "execution_count": 647,
   "id": "7c64873e-6149-486d-85f4-653b173bf992",
   "metadata": {},
   "outputs": [
    {
     "name": "stderr",
     "output_type": "stream",
     "text": [
      "C:\\Users\\mlesa\\AppData\\Local\\Temp\\ipykernel_12092\\1994874655.py:1: FutureWarning: A value is trying to be set on a copy of a DataFrame or Series through chained assignment using an inplace method.\n",
      "The behavior will change in pandas 3.0. This inplace method will never work because the intermediate object on which we are setting values always behaves as a copy.\n",
      "\n",
      "For example, when doing 'df[col].method(value, inplace=True)', try using 'df.method({col: value}, inplace=True)' or df[col] = df[col].method(value) instead, to perform the operation inplace on the original object.\n",
      "\n",
      "\n",
      "  df[\"person_gender\"].replace({'female': 1,'male': 0}, inplace=True)\n",
      "C:\\Users\\mlesa\\AppData\\Local\\Temp\\ipykernel_12092\\1994874655.py:1: FutureWarning: Downcasting behavior in `replace` is deprecated and will be removed in a future version. To retain the old behavior, explicitly call `result.infer_objects(copy=False)`. To opt-in to the future behavior, set `pd.set_option('future.no_silent_downcasting', True)`\n",
      "  df[\"person_gender\"].replace({'female': 1,'male': 0}, inplace=True)\n",
      "C:\\Users\\mlesa\\AppData\\Local\\Temp\\ipykernel_12092\\1994874655.py:2: FutureWarning: A value is trying to be set on a copy of a DataFrame or Series through chained assignment using an inplace method.\n",
      "The behavior will change in pandas 3.0. This inplace method will never work because the intermediate object on which we are setting values always behaves as a copy.\n",
      "\n",
      "For example, when doing 'df[col].method(value, inplace=True)', try using 'df.method({col: value}, inplace=True)' or df[col] = df[col].method(value) instead, to perform the operation inplace on the original object.\n",
      "\n",
      "\n",
      "  df[\"previous_loan_defaults_on_file\"].replace({'Yes': 1,'No': 0}, inplace=True)\n",
      "C:\\Users\\mlesa\\AppData\\Local\\Temp\\ipykernel_12092\\1994874655.py:2: FutureWarning: Downcasting behavior in `replace` is deprecated and will be removed in a future version. To retain the old behavior, explicitly call `result.infer_objects(copy=False)`. To opt-in to the future behavior, set `pd.set_option('future.no_silent_downcasting', True)`\n",
      "  df[\"previous_loan_defaults_on_file\"].replace({'Yes': 1,'No': 0}, inplace=True)\n",
      "C:\\Users\\mlesa\\AppData\\Local\\Temp\\ipykernel_12092\\1994874655.py:3: FutureWarning: A value is trying to be set on a copy of a DataFrame or Series through chained assignment using an inplace method.\n",
      "The behavior will change in pandas 3.0. This inplace method will never work because the intermediate object on which we are setting values always behaves as a copy.\n",
      "\n",
      "For example, when doing 'df[col].method(value, inplace=True)', try using 'df.method({col: value}, inplace=True)' or df[col] = df[col].method(value) instead, to perform the operation inplace on the original object.\n",
      "\n",
      "\n",
      "  df[\"person_home_ownership_MORTGAGE\"].replace({True: 1,False: 0}, inplace=True)\n",
      "C:\\Users\\mlesa\\AppData\\Local\\Temp\\ipykernel_12092\\1994874655.py:3: FutureWarning: Downcasting behavior in `replace` is deprecated and will be removed in a future version. To retain the old behavior, explicitly call `result.infer_objects(copy=False)`. To opt-in to the future behavior, set `pd.set_option('future.no_silent_downcasting', True)`\n",
      "  df[\"person_home_ownership_MORTGAGE\"].replace({True: 1,False: 0}, inplace=True)\n",
      "C:\\Users\\mlesa\\AppData\\Local\\Temp\\ipykernel_12092\\1994874655.py:4: FutureWarning: A value is trying to be set on a copy of a DataFrame or Series through chained assignment using an inplace method.\n",
      "The behavior will change in pandas 3.0. This inplace method will never work because the intermediate object on which we are setting values always behaves as a copy.\n",
      "\n",
      "For example, when doing 'df[col].method(value, inplace=True)', try using 'df.method({col: value}, inplace=True)' or df[col] = df[col].method(value) instead, to perform the operation inplace on the original object.\n",
      "\n",
      "\n",
      "  df[\"person_home_ownership_OTHER\"].replace({True: 1,False: 0}, inplace=True)\n",
      "C:\\Users\\mlesa\\AppData\\Local\\Temp\\ipykernel_12092\\1994874655.py:4: FutureWarning: Downcasting behavior in `replace` is deprecated and will be removed in a future version. To retain the old behavior, explicitly call `result.infer_objects(copy=False)`. To opt-in to the future behavior, set `pd.set_option('future.no_silent_downcasting', True)`\n",
      "  df[\"person_home_ownership_OTHER\"].replace({True: 1,False: 0}, inplace=True)\n",
      "C:\\Users\\mlesa\\AppData\\Local\\Temp\\ipykernel_12092\\1994874655.py:5: FutureWarning: A value is trying to be set on a copy of a DataFrame or Series through chained assignment using an inplace method.\n",
      "The behavior will change in pandas 3.0. This inplace method will never work because the intermediate object on which we are setting values always behaves as a copy.\n",
      "\n",
      "For example, when doing 'df[col].method(value, inplace=True)', try using 'df.method({col: value}, inplace=True)' or df[col] = df[col].method(value) instead, to perform the operation inplace on the original object.\n",
      "\n",
      "\n",
      "  df[\"person_home_ownership_OWN\"].replace({True: 1,False: 0}, inplace=True)\n",
      "C:\\Users\\mlesa\\AppData\\Local\\Temp\\ipykernel_12092\\1994874655.py:5: FutureWarning: Downcasting behavior in `replace` is deprecated and will be removed in a future version. To retain the old behavior, explicitly call `result.infer_objects(copy=False)`. To opt-in to the future behavior, set `pd.set_option('future.no_silent_downcasting', True)`\n",
      "  df[\"person_home_ownership_OWN\"].replace({True: 1,False: 0}, inplace=True)\n",
      "C:\\Users\\mlesa\\AppData\\Local\\Temp\\ipykernel_12092\\1994874655.py:6: FutureWarning: A value is trying to be set on a copy of a DataFrame or Series through chained assignment using an inplace method.\n",
      "The behavior will change in pandas 3.0. This inplace method will never work because the intermediate object on which we are setting values always behaves as a copy.\n",
      "\n",
      "For example, when doing 'df[col].method(value, inplace=True)', try using 'df.method({col: value}, inplace=True)' or df[col] = df[col].method(value) instead, to perform the operation inplace on the original object.\n",
      "\n",
      "\n",
      "  df[\"person_home_ownership_RENT\"].replace({True: 1,False: 0}, inplace=True)\n",
      "C:\\Users\\mlesa\\AppData\\Local\\Temp\\ipykernel_12092\\1994874655.py:6: FutureWarning: Downcasting behavior in `replace` is deprecated and will be removed in a future version. To retain the old behavior, explicitly call `result.infer_objects(copy=False)`. To opt-in to the future behavior, set `pd.set_option('future.no_silent_downcasting', True)`\n",
      "  df[\"person_home_ownership_RENT\"].replace({True: 1,False: 0}, inplace=True)\n",
      "C:\\Users\\mlesa\\AppData\\Local\\Temp\\ipykernel_12092\\1994874655.py:7: FutureWarning: A value is trying to be set on a copy of a DataFrame or Series through chained assignment using an inplace method.\n",
      "The behavior will change in pandas 3.0. This inplace method will never work because the intermediate object on which we are setting values always behaves as a copy.\n",
      "\n",
      "For example, when doing 'df[col].method(value, inplace=True)', try using 'df.method({col: value}, inplace=True)' or df[col] = df[col].method(value) instead, to perform the operation inplace on the original object.\n",
      "\n",
      "\n",
      "  df[\"person_education_Associate\"].replace({True: 1,False: 0}, inplace=True)\n",
      "C:\\Users\\mlesa\\AppData\\Local\\Temp\\ipykernel_12092\\1994874655.py:7: FutureWarning: Downcasting behavior in `replace` is deprecated and will be removed in a future version. To retain the old behavior, explicitly call `result.infer_objects(copy=False)`. To opt-in to the future behavior, set `pd.set_option('future.no_silent_downcasting', True)`\n",
      "  df[\"person_education_Associate\"].replace({True: 1,False: 0}, inplace=True)\n",
      "C:\\Users\\mlesa\\AppData\\Local\\Temp\\ipykernel_12092\\1994874655.py:8: FutureWarning: A value is trying to be set on a copy of a DataFrame or Series through chained assignment using an inplace method.\n",
      "The behavior will change in pandas 3.0. This inplace method will never work because the intermediate object on which we are setting values always behaves as a copy.\n",
      "\n",
      "For example, when doing 'df[col].method(value, inplace=True)', try using 'df.method({col: value}, inplace=True)' or df[col] = df[col].method(value) instead, to perform the operation inplace on the original object.\n",
      "\n",
      "\n",
      "  df[\"person_education_Bachelor\"].replace({True: 1,False: 0}, inplace=True)\n",
      "C:\\Users\\mlesa\\AppData\\Local\\Temp\\ipykernel_12092\\1994874655.py:8: FutureWarning: Downcasting behavior in `replace` is deprecated and will be removed in a future version. To retain the old behavior, explicitly call `result.infer_objects(copy=False)`. To opt-in to the future behavior, set `pd.set_option('future.no_silent_downcasting', True)`\n",
      "  df[\"person_education_Bachelor\"].replace({True: 1,False: 0}, inplace=True)\n",
      "C:\\Users\\mlesa\\AppData\\Local\\Temp\\ipykernel_12092\\1994874655.py:9: FutureWarning: A value is trying to be set on a copy of a DataFrame or Series through chained assignment using an inplace method.\n",
      "The behavior will change in pandas 3.0. This inplace method will never work because the intermediate object on which we are setting values always behaves as a copy.\n",
      "\n",
      "For example, when doing 'df[col].method(value, inplace=True)', try using 'df.method({col: value}, inplace=True)' or df[col] = df[col].method(value) instead, to perform the operation inplace on the original object.\n",
      "\n",
      "\n",
      "  df[\"person_education_Doctorate\"].replace({True: 1,False: 0}, inplace=True)\n",
      "C:\\Users\\mlesa\\AppData\\Local\\Temp\\ipykernel_12092\\1994874655.py:9: FutureWarning: Downcasting behavior in `replace` is deprecated and will be removed in a future version. To retain the old behavior, explicitly call `result.infer_objects(copy=False)`. To opt-in to the future behavior, set `pd.set_option('future.no_silent_downcasting', True)`\n",
      "  df[\"person_education_Doctorate\"].replace({True: 1,False: 0}, inplace=True)\n",
      "C:\\Users\\mlesa\\AppData\\Local\\Temp\\ipykernel_12092\\1994874655.py:10: FutureWarning: A value is trying to be set on a copy of a DataFrame or Series through chained assignment using an inplace method.\n",
      "The behavior will change in pandas 3.0. This inplace method will never work because the intermediate object on which we are setting values always behaves as a copy.\n",
      "\n",
      "For example, when doing 'df[col].method(value, inplace=True)', try using 'df.method({col: value}, inplace=True)' or df[col] = df[col].method(value) instead, to perform the operation inplace on the original object.\n",
      "\n",
      "\n",
      "  df[\"person_education_Master\"].replace({True: 1,False: 0}, inplace=True)\n",
      "C:\\Users\\mlesa\\AppData\\Local\\Temp\\ipykernel_12092\\1994874655.py:10: FutureWarning: Downcasting behavior in `replace` is deprecated and will be removed in a future version. To retain the old behavior, explicitly call `result.infer_objects(copy=False)`. To opt-in to the future behavior, set `pd.set_option('future.no_silent_downcasting', True)`\n",
      "  df[\"person_education_Master\"].replace({True: 1,False: 0}, inplace=True)\n",
      "C:\\Users\\mlesa\\AppData\\Local\\Temp\\ipykernel_12092\\1994874655.py:11: FutureWarning: A value is trying to be set on a copy of a DataFrame or Series through chained assignment using an inplace method.\n",
      "The behavior will change in pandas 3.0. This inplace method will never work because the intermediate object on which we are setting values always behaves as a copy.\n",
      "\n",
      "For example, when doing 'df[col].method(value, inplace=True)', try using 'df.method({col: value}, inplace=True)' or df[col] = df[col].method(value) instead, to perform the operation inplace on the original object.\n",
      "\n",
      "\n",
      "  df[\"loan_intent_PERSONAL\"].replace({True: 1,False: 0}, inplace=True)\n",
      "C:\\Users\\mlesa\\AppData\\Local\\Temp\\ipykernel_12092\\1994874655.py:11: FutureWarning: Downcasting behavior in `replace` is deprecated and will be removed in a future version. To retain the old behavior, explicitly call `result.infer_objects(copy=False)`. To opt-in to the future behavior, set `pd.set_option('future.no_silent_downcasting', True)`\n",
      "  df[\"loan_intent_PERSONAL\"].replace({True: 1,False: 0}, inplace=True)\n",
      "C:\\Users\\mlesa\\AppData\\Local\\Temp\\ipykernel_12092\\1994874655.py:12: FutureWarning: A value is trying to be set on a copy of a DataFrame or Series through chained assignment using an inplace method.\n",
      "The behavior will change in pandas 3.0. This inplace method will never work because the intermediate object on which we are setting values always behaves as a copy.\n",
      "\n",
      "For example, when doing 'df[col].method(value, inplace=True)', try using 'df.method({col: value}, inplace=True)' or df[col] = df[col].method(value) instead, to perform the operation inplace on the original object.\n",
      "\n",
      "\n",
      "  df[\"loan_intent_MEDICAL\"].replace({True: 1,False: 0}, inplace=True)\n",
      "C:\\Users\\mlesa\\AppData\\Local\\Temp\\ipykernel_12092\\1994874655.py:12: FutureWarning: Downcasting behavior in `replace` is deprecated and will be removed in a future version. To retain the old behavior, explicitly call `result.infer_objects(copy=False)`. To opt-in to the future behavior, set `pd.set_option('future.no_silent_downcasting', True)`\n",
      "  df[\"loan_intent_MEDICAL\"].replace({True: 1,False: 0}, inplace=True)\n"
     ]
    }
   ],
   "source": [
    "df[\"person_gender\"].replace({'female': 1,'male': 0}, inplace=True)\n",
    "df[\"previous_loan_defaults_on_file\"].replace({'Yes': 1,'No': 0}, inplace=True)\n",
    "df[\"person_home_ownership_MORTGAGE\"].replace({True: 1,False: 0}, inplace=True)\n",
    "df[\"person_home_ownership_OTHER\"].replace({True: 1,False: 0}, inplace=True)\n",
    "df[\"person_home_ownership_OWN\"].replace({True: 1,False: 0}, inplace=True)\n",
    "df[\"person_home_ownership_RENT\"].replace({True: 1,False: 0}, inplace=True)\n",
    "df[\"person_education_Associate\"].replace({True: 1,False: 0}, inplace=True)\n",
    "df[\"person_education_Bachelor\"].replace({True: 1,False: 0}, inplace=True)\n",
    "df[\"person_education_Doctorate\"].replace({True: 1,False: 0}, inplace=True)\n",
    "df[\"person_education_Master\"].replace({True: 1,False: 0}, inplace=True)\n",
    "df[\"loan_intent_PERSONAL\"].replace({True: 1,False: 0}, inplace=True)\n",
    "df[\"loan_intent_MEDICAL\"].replace({True: 1,False: 0}, inplace=True)\n"
   ]
  },
  {
   "cell_type": "code",
   "execution_count": 649,
   "id": "2bf69abf-de9e-4d65-8b80-f4e8930ec479",
   "metadata": {},
   "outputs": [
    {
     "data": {
      "text/plain": [
       "person_age                        0\n",
       "person_gender                     0\n",
       "person_income                     0\n",
       "person_emp_exp                    0\n",
       "loan_amnt                         0\n",
       "loan_int_rate                     0\n",
       "loan_percent_income               0\n",
       "cb_person_cred_hist_length        0\n",
       "credit_score                      0\n",
       "previous_loan_defaults_on_file    0\n",
       "loan_status                       0\n",
       "loan_intent_DEBTCONSOLIDATION     0\n",
       "loan_intent_EDUCATION             0\n",
       "loan_intent_HOMEIMPROVEMENT       0\n",
       "loan_intent_MEDICAL               0\n",
       "loan_intent_PERSONAL              0\n",
       "loan_intent_VENTURE               0\n",
       "person_home_ownership_MORTGAGE    0\n",
       "person_home_ownership_OTHER       0\n",
       "person_home_ownership_OWN         0\n",
       "person_home_ownership_RENT        0\n",
       "person_education_Associate        0\n",
       "person_education_Bachelor         0\n",
       "person_education_Doctorate        0\n",
       "person_education_High School      0\n",
       "person_education_Master           0\n",
       "dtype: int64"
      ]
     },
     "execution_count": 649,
     "metadata": {},
     "output_type": "execute_result"
    }
   ],
   "source": [
    "df.isnull().sum()"
   ]
  },
  {
   "cell_type": "code",
   "execution_count": 651,
   "id": "a6ad2f97-d93f-4822-a247-ae7fe6b0c122",
   "metadata": {},
   "outputs": [
    {
     "data": {
      "text/plain": [
       "loan_status                       1.000000\n",
       "loan_percent_income               0.324309\n",
       "loan_int_rate                     0.311440\n",
       "person_home_ownership_RENT        0.255239\n",
       "loan_amnt                         0.086746\n",
       "loan_intent_DEBTCONSOLIDATION     0.084130\n",
       "loan_intent_MEDICAL               0.065195\n",
       "loan_intent_HOMEIMPROVEMENT       0.033838\n",
       "person_home_ownership_OTHER       0.013645\n",
       "person_education_Bachelor         0.004728\n",
       "person_education_Doctorate        0.001833\n",
       "person_education_High School      0.001277\n",
       "person_gender                     0.000561\n",
       "person_education_Associate       -0.002765\n",
       "person_education_Master          -0.004741\n",
       "credit_score                     -0.008431\n",
       "cb_person_cred_hist_length       -0.020496\n",
       "loan_intent_PERSONAL             -0.022488\n",
       "person_emp_exp                   -0.027330\n",
       "person_age                       -0.030378\n",
       "loan_intent_EDUCATION            -0.064006\n",
       "loan_intent_VENTURE              -0.085992\n",
       "person_home_ownership_OWN        -0.093666\n",
       "person_home_ownership_MORTGAGE   -0.213451\n",
       "person_income                    -0.274973\n",
       "previous_loan_defaults_on_file   -0.543096\n",
       "Name: loan_status, dtype: float64"
      ]
     },
     "execution_count": 651,
     "metadata": {},
     "output_type": "execute_result"
    }
   ],
   "source": [
    "correlation = df.corr(method=\"spearman\")[\"loan_status\"].sort_values(ascending=False)\n",
    "correlation"
   ]
  },
  {
   "cell_type": "code",
   "execution_count": 653,
   "id": "12e8d2b5-1279-49e0-b332-ca77daca609f",
   "metadata": {},
   "outputs": [],
   "source": [
    "df = df.drop(columns = ['person_education_High School','loan_intent_VENTURE', ])"
   ]
  },
  {
   "cell_type": "code",
   "execution_count": 655,
   "id": "2f7f82c3-07a2-462f-8554-f7ed5b983188",
   "metadata": {},
   "outputs": [
    {
     "data": {
      "text/plain": [
       "person_age                        0\n",
       "person_gender                     0\n",
       "person_income                     0\n",
       "person_emp_exp                    0\n",
       "loan_amnt                         0\n",
       "loan_int_rate                     0\n",
       "loan_percent_income               0\n",
       "cb_person_cred_hist_length        0\n",
       "credit_score                      0\n",
       "previous_loan_defaults_on_file    0\n",
       "loan_intent_DEBTCONSOLIDATION     0\n",
       "loan_intent_EDUCATION             0\n",
       "loan_intent_HOMEIMPROVEMENT       0\n",
       "loan_intent_MEDICAL               0\n",
       "loan_intent_PERSONAL              0\n",
       "person_home_ownership_MORTGAGE    0\n",
       "person_home_ownership_OTHER       0\n",
       "person_home_ownership_OWN         0\n",
       "person_home_ownership_RENT        0\n",
       "person_education_Associate        0\n",
       "person_education_Bachelor         0\n",
       "person_education_Doctorate        0\n",
       "person_education_Master           0\n",
       "dtype: int64"
      ]
     },
     "execution_count": 655,
     "metadata": {},
     "output_type": "execute_result"
    }
   ],
   "source": [
    "x.isnull().sum()"
   ]
  },
  {
   "cell_type": "code",
   "execution_count": 657,
   "id": "e2d9ab74-b0a7-4355-b06e-2447bc8bb073",
   "metadata": {},
   "outputs": [],
   "source": [
    "x = df.drop(columns='loan_status')"
   ]
  },
  {
   "cell_type": "code",
   "execution_count": 659,
   "id": "ac4dcef0-6952-4403-a54d-0e27ce548bb7",
   "metadata": {},
   "outputs": [],
   "source": [
    "y = df['loan_status']"
   ]
  },
  {
   "cell_type": "code",
   "execution_count": 661,
   "id": "8ec5ec81-e9f5-472c-942a-bd6f929aee49",
   "metadata": {},
   "outputs": [],
   "source": [
    "x_train, x_test, y_train, y_test = train_test_split(x,y, test_size = .25)"
   ]
  },
  {
   "cell_type": "code",
   "execution_count": 754,
   "id": "285217b4-94f7-41ef-86a4-eb7f99a4bbe2",
   "metadata": {},
   "outputs": [
    {
     "data": {
      "text/html": [
       "<style>#sk-container-id-13 {\n",
       "  /* Definition of color scheme common for light and dark mode */\n",
       "  --sklearn-color-text: black;\n",
       "  --sklearn-color-line: gray;\n",
       "  /* Definition of color scheme for unfitted estimators */\n",
       "  --sklearn-color-unfitted-level-0: #fff5e6;\n",
       "  --sklearn-color-unfitted-level-1: #f6e4d2;\n",
       "  --sklearn-color-unfitted-level-2: #ffe0b3;\n",
       "  --sklearn-color-unfitted-level-3: chocolate;\n",
       "  /* Definition of color scheme for fitted estimators */\n",
       "  --sklearn-color-fitted-level-0: #f0f8ff;\n",
       "  --sklearn-color-fitted-level-1: #d4ebff;\n",
       "  --sklearn-color-fitted-level-2: #b3dbfd;\n",
       "  --sklearn-color-fitted-level-3: cornflowerblue;\n",
       "\n",
       "  /* Specific color for light theme */\n",
       "  --sklearn-color-text-on-default-background: var(--sg-text-color, var(--theme-code-foreground, var(--jp-content-font-color1, black)));\n",
       "  --sklearn-color-background: var(--sg-background-color, var(--theme-background, var(--jp-layout-color0, white)));\n",
       "  --sklearn-color-border-box: var(--sg-text-color, var(--theme-code-foreground, var(--jp-content-font-color1, black)));\n",
       "  --sklearn-color-icon: #696969;\n",
       "\n",
       "  @media (prefers-color-scheme: dark) {\n",
       "    /* Redefinition of color scheme for dark theme */\n",
       "    --sklearn-color-text-on-default-background: var(--sg-text-color, var(--theme-code-foreground, var(--jp-content-font-color1, white)));\n",
       "    --sklearn-color-background: var(--sg-background-color, var(--theme-background, var(--jp-layout-color0, #111)));\n",
       "    --sklearn-color-border-box: var(--sg-text-color, var(--theme-code-foreground, var(--jp-content-font-color1, white)));\n",
       "    --sklearn-color-icon: #878787;\n",
       "  }\n",
       "}\n",
       "\n",
       "#sk-container-id-13 {\n",
       "  color: var(--sklearn-color-text);\n",
       "}\n",
       "\n",
       "#sk-container-id-13 pre {\n",
       "  padding: 0;\n",
       "}\n",
       "\n",
       "#sk-container-id-13 input.sk-hidden--visually {\n",
       "  border: 0;\n",
       "  clip: rect(1px 1px 1px 1px);\n",
       "  clip: rect(1px, 1px, 1px, 1px);\n",
       "  height: 1px;\n",
       "  margin: -1px;\n",
       "  overflow: hidden;\n",
       "  padding: 0;\n",
       "  position: absolute;\n",
       "  width: 1px;\n",
       "}\n",
       "\n",
       "#sk-container-id-13 div.sk-dashed-wrapped {\n",
       "  border: 1px dashed var(--sklearn-color-line);\n",
       "  margin: 0 0.4em 0.5em 0.4em;\n",
       "  box-sizing: border-box;\n",
       "  padding-bottom: 0.4em;\n",
       "  background-color: var(--sklearn-color-background);\n",
       "}\n",
       "\n",
       "#sk-container-id-13 div.sk-container {\n",
       "  /* jupyter's `normalize.less` sets `[hidden] { display: none; }`\n",
       "     but bootstrap.min.css set `[hidden] { display: none !important; }`\n",
       "     so we also need the `!important` here to be able to override the\n",
       "     default hidden behavior on the sphinx rendered scikit-learn.org.\n",
       "     See: https://github.com/scikit-learn/scikit-learn/issues/21755 */\n",
       "  display: inline-block !important;\n",
       "  position: relative;\n",
       "}\n",
       "\n",
       "#sk-container-id-13 div.sk-text-repr-fallback {\n",
       "  display: none;\n",
       "}\n",
       "\n",
       "div.sk-parallel-item,\n",
       "div.sk-serial,\n",
       "div.sk-item {\n",
       "  /* draw centered vertical line to link estimators */\n",
       "  background-image: linear-gradient(var(--sklearn-color-text-on-default-background), var(--sklearn-color-text-on-default-background));\n",
       "  background-size: 2px 100%;\n",
       "  background-repeat: no-repeat;\n",
       "  background-position: center center;\n",
       "}\n",
       "\n",
       "/* Parallel-specific style estimator block */\n",
       "\n",
       "#sk-container-id-13 div.sk-parallel-item::after {\n",
       "  content: \"\";\n",
       "  width: 100%;\n",
       "  border-bottom: 2px solid var(--sklearn-color-text-on-default-background);\n",
       "  flex-grow: 1;\n",
       "}\n",
       "\n",
       "#sk-container-id-13 div.sk-parallel {\n",
       "  display: flex;\n",
       "  align-items: stretch;\n",
       "  justify-content: center;\n",
       "  background-color: var(--sklearn-color-background);\n",
       "  position: relative;\n",
       "}\n",
       "\n",
       "#sk-container-id-13 div.sk-parallel-item {\n",
       "  display: flex;\n",
       "  flex-direction: column;\n",
       "}\n",
       "\n",
       "#sk-container-id-13 div.sk-parallel-item:first-child::after {\n",
       "  align-self: flex-end;\n",
       "  width: 50%;\n",
       "}\n",
       "\n",
       "#sk-container-id-13 div.sk-parallel-item:last-child::after {\n",
       "  align-self: flex-start;\n",
       "  width: 50%;\n",
       "}\n",
       "\n",
       "#sk-container-id-13 div.sk-parallel-item:only-child::after {\n",
       "  width: 0;\n",
       "}\n",
       "\n",
       "/* Serial-specific style estimator block */\n",
       "\n",
       "#sk-container-id-13 div.sk-serial {\n",
       "  display: flex;\n",
       "  flex-direction: column;\n",
       "  align-items: center;\n",
       "  background-color: var(--sklearn-color-background);\n",
       "  padding-right: 1em;\n",
       "  padding-left: 1em;\n",
       "}\n",
       "\n",
       "\n",
       "/* Toggleable style: style used for estimator/Pipeline/ColumnTransformer box that is\n",
       "clickable and can be expanded/collapsed.\n",
       "- Pipeline and ColumnTransformer use this feature and define the default style\n",
       "- Estimators will overwrite some part of the style using the `sk-estimator` class\n",
       "*/\n",
       "\n",
       "/* Pipeline and ColumnTransformer style (default) */\n",
       "\n",
       "#sk-container-id-13 div.sk-toggleable {\n",
       "  /* Default theme specific background. It is overwritten whether we have a\n",
       "  specific estimator or a Pipeline/ColumnTransformer */\n",
       "  background-color: var(--sklearn-color-background);\n",
       "}\n",
       "\n",
       "/* Toggleable label */\n",
       "#sk-container-id-13 label.sk-toggleable__label {\n",
       "  cursor: pointer;\n",
       "  display: block;\n",
       "  width: 100%;\n",
       "  margin-bottom: 0;\n",
       "  padding: 0.5em;\n",
       "  box-sizing: border-box;\n",
       "  text-align: center;\n",
       "}\n",
       "\n",
       "#sk-container-id-13 label.sk-toggleable__label-arrow:before {\n",
       "  /* Arrow on the left of the label */\n",
       "  content: \"▸\";\n",
       "  float: left;\n",
       "  margin-right: 0.25em;\n",
       "  color: var(--sklearn-color-icon);\n",
       "}\n",
       "\n",
       "#sk-container-id-13 label.sk-toggleable__label-arrow:hover:before {\n",
       "  color: var(--sklearn-color-text);\n",
       "}\n",
       "\n",
       "/* Toggleable content - dropdown */\n",
       "\n",
       "#sk-container-id-13 div.sk-toggleable__content {\n",
       "  max-height: 0;\n",
       "  max-width: 0;\n",
       "  overflow: hidden;\n",
       "  text-align: left;\n",
       "  /* unfitted */\n",
       "  background-color: var(--sklearn-color-unfitted-level-0);\n",
       "}\n",
       "\n",
       "#sk-container-id-13 div.sk-toggleable__content.fitted {\n",
       "  /* fitted */\n",
       "  background-color: var(--sklearn-color-fitted-level-0);\n",
       "}\n",
       "\n",
       "#sk-container-id-13 div.sk-toggleable__content pre {\n",
       "  margin: 0.2em;\n",
       "  border-radius: 0.25em;\n",
       "  color: var(--sklearn-color-text);\n",
       "  /* unfitted */\n",
       "  background-color: var(--sklearn-color-unfitted-level-0);\n",
       "}\n",
       "\n",
       "#sk-container-id-13 div.sk-toggleable__content.fitted pre {\n",
       "  /* unfitted */\n",
       "  background-color: var(--sklearn-color-fitted-level-0);\n",
       "}\n",
       "\n",
       "#sk-container-id-13 input.sk-toggleable__control:checked~div.sk-toggleable__content {\n",
       "  /* Expand drop-down */\n",
       "  max-height: 200px;\n",
       "  max-width: 100%;\n",
       "  overflow: auto;\n",
       "}\n",
       "\n",
       "#sk-container-id-13 input.sk-toggleable__control:checked~label.sk-toggleable__label-arrow:before {\n",
       "  content: \"▾\";\n",
       "}\n",
       "\n",
       "/* Pipeline/ColumnTransformer-specific style */\n",
       "\n",
       "#sk-container-id-13 div.sk-label input.sk-toggleable__control:checked~label.sk-toggleable__label {\n",
       "  color: var(--sklearn-color-text);\n",
       "  background-color: var(--sklearn-color-unfitted-level-2);\n",
       "}\n",
       "\n",
       "#sk-container-id-13 div.sk-label.fitted input.sk-toggleable__control:checked~label.sk-toggleable__label {\n",
       "  background-color: var(--sklearn-color-fitted-level-2);\n",
       "}\n",
       "\n",
       "/* Estimator-specific style */\n",
       "\n",
       "/* Colorize estimator box */\n",
       "#sk-container-id-13 div.sk-estimator input.sk-toggleable__control:checked~label.sk-toggleable__label {\n",
       "  /* unfitted */\n",
       "  background-color: var(--sklearn-color-unfitted-level-2);\n",
       "}\n",
       "\n",
       "#sk-container-id-13 div.sk-estimator.fitted input.sk-toggleable__control:checked~label.sk-toggleable__label {\n",
       "  /* fitted */\n",
       "  background-color: var(--sklearn-color-fitted-level-2);\n",
       "}\n",
       "\n",
       "#sk-container-id-13 div.sk-label label.sk-toggleable__label,\n",
       "#sk-container-id-13 div.sk-label label {\n",
       "  /* The background is the default theme color */\n",
       "  color: var(--sklearn-color-text-on-default-background);\n",
       "}\n",
       "\n",
       "/* On hover, darken the color of the background */\n",
       "#sk-container-id-13 div.sk-label:hover label.sk-toggleable__label {\n",
       "  color: var(--sklearn-color-text);\n",
       "  background-color: var(--sklearn-color-unfitted-level-2);\n",
       "}\n",
       "\n",
       "/* Label box, darken color on hover, fitted */\n",
       "#sk-container-id-13 div.sk-label.fitted:hover label.sk-toggleable__label.fitted {\n",
       "  color: var(--sklearn-color-text);\n",
       "  background-color: var(--sklearn-color-fitted-level-2);\n",
       "}\n",
       "\n",
       "/* Estimator label */\n",
       "\n",
       "#sk-container-id-13 div.sk-label label {\n",
       "  font-family: monospace;\n",
       "  font-weight: bold;\n",
       "  display: inline-block;\n",
       "  line-height: 1.2em;\n",
       "}\n",
       "\n",
       "#sk-container-id-13 div.sk-label-container {\n",
       "  text-align: center;\n",
       "}\n",
       "\n",
       "/* Estimator-specific */\n",
       "#sk-container-id-13 div.sk-estimator {\n",
       "  font-family: monospace;\n",
       "  border: 1px dotted var(--sklearn-color-border-box);\n",
       "  border-radius: 0.25em;\n",
       "  box-sizing: border-box;\n",
       "  margin-bottom: 0.5em;\n",
       "  /* unfitted */\n",
       "  background-color: var(--sklearn-color-unfitted-level-0);\n",
       "}\n",
       "\n",
       "#sk-container-id-13 div.sk-estimator.fitted {\n",
       "  /* fitted */\n",
       "  background-color: var(--sklearn-color-fitted-level-0);\n",
       "}\n",
       "\n",
       "/* on hover */\n",
       "#sk-container-id-13 div.sk-estimator:hover {\n",
       "  /* unfitted */\n",
       "  background-color: var(--sklearn-color-unfitted-level-2);\n",
       "}\n",
       "\n",
       "#sk-container-id-13 div.sk-estimator.fitted:hover {\n",
       "  /* fitted */\n",
       "  background-color: var(--sklearn-color-fitted-level-2);\n",
       "}\n",
       "\n",
       "/* Specification for estimator info (e.g. \"i\" and \"?\") */\n",
       "\n",
       "/* Common style for \"i\" and \"?\" */\n",
       "\n",
       ".sk-estimator-doc-link,\n",
       "a:link.sk-estimator-doc-link,\n",
       "a:visited.sk-estimator-doc-link {\n",
       "  float: right;\n",
       "  font-size: smaller;\n",
       "  line-height: 1em;\n",
       "  font-family: monospace;\n",
       "  background-color: var(--sklearn-color-background);\n",
       "  border-radius: 1em;\n",
       "  height: 1em;\n",
       "  width: 1em;\n",
       "  text-decoration: none !important;\n",
       "  margin-left: 1ex;\n",
       "  /* unfitted */\n",
       "  border: var(--sklearn-color-unfitted-level-1) 1pt solid;\n",
       "  color: var(--sklearn-color-unfitted-level-1);\n",
       "}\n",
       "\n",
       ".sk-estimator-doc-link.fitted,\n",
       "a:link.sk-estimator-doc-link.fitted,\n",
       "a:visited.sk-estimator-doc-link.fitted {\n",
       "  /* fitted */\n",
       "  border: var(--sklearn-color-fitted-level-1) 1pt solid;\n",
       "  color: var(--sklearn-color-fitted-level-1);\n",
       "}\n",
       "\n",
       "/* On hover */\n",
       "div.sk-estimator:hover .sk-estimator-doc-link:hover,\n",
       ".sk-estimator-doc-link:hover,\n",
       "div.sk-label-container:hover .sk-estimator-doc-link:hover,\n",
       ".sk-estimator-doc-link:hover {\n",
       "  /* unfitted */\n",
       "  background-color: var(--sklearn-color-unfitted-level-3);\n",
       "  color: var(--sklearn-color-background);\n",
       "  text-decoration: none;\n",
       "}\n",
       "\n",
       "div.sk-estimator.fitted:hover .sk-estimator-doc-link.fitted:hover,\n",
       ".sk-estimator-doc-link.fitted:hover,\n",
       "div.sk-label-container:hover .sk-estimator-doc-link.fitted:hover,\n",
       ".sk-estimator-doc-link.fitted:hover {\n",
       "  /* fitted */\n",
       "  background-color: var(--sklearn-color-fitted-level-3);\n",
       "  color: var(--sklearn-color-background);\n",
       "  text-decoration: none;\n",
       "}\n",
       "\n",
       "/* Span, style for the box shown on hovering the info icon */\n",
       ".sk-estimator-doc-link span {\n",
       "  display: none;\n",
       "  z-index: 9999;\n",
       "  position: relative;\n",
       "  font-weight: normal;\n",
       "  right: .2ex;\n",
       "  padding: .5ex;\n",
       "  margin: .5ex;\n",
       "  width: min-content;\n",
       "  min-width: 20ex;\n",
       "  max-width: 50ex;\n",
       "  color: var(--sklearn-color-text);\n",
       "  box-shadow: 2pt 2pt 4pt #999;\n",
       "  /* unfitted */\n",
       "  background: var(--sklearn-color-unfitted-level-0);\n",
       "  border: .5pt solid var(--sklearn-color-unfitted-level-3);\n",
       "}\n",
       "\n",
       ".sk-estimator-doc-link.fitted span {\n",
       "  /* fitted */\n",
       "  background: var(--sklearn-color-fitted-level-0);\n",
       "  border: var(--sklearn-color-fitted-level-3);\n",
       "}\n",
       "\n",
       ".sk-estimator-doc-link:hover span {\n",
       "  display: block;\n",
       "}\n",
       "\n",
       "/* \"?\"-specific style due to the `<a>` HTML tag */\n",
       "\n",
       "#sk-container-id-13 a.estimator_doc_link {\n",
       "  float: right;\n",
       "  font-size: 1rem;\n",
       "  line-height: 1em;\n",
       "  font-family: monospace;\n",
       "  background-color: var(--sklearn-color-background);\n",
       "  border-radius: 1rem;\n",
       "  height: 1rem;\n",
       "  width: 1rem;\n",
       "  text-decoration: none;\n",
       "  /* unfitted */\n",
       "  color: var(--sklearn-color-unfitted-level-1);\n",
       "  border: var(--sklearn-color-unfitted-level-1) 1pt solid;\n",
       "}\n",
       "\n",
       "#sk-container-id-13 a.estimator_doc_link.fitted {\n",
       "  /* fitted */\n",
       "  border: var(--sklearn-color-fitted-level-1) 1pt solid;\n",
       "  color: var(--sklearn-color-fitted-level-1);\n",
       "}\n",
       "\n",
       "/* On hover */\n",
       "#sk-container-id-13 a.estimator_doc_link:hover {\n",
       "  /* unfitted */\n",
       "  background-color: var(--sklearn-color-unfitted-level-3);\n",
       "  color: var(--sklearn-color-background);\n",
       "  text-decoration: none;\n",
       "}\n",
       "\n",
       "#sk-container-id-13 a.estimator_doc_link.fitted:hover {\n",
       "  /* fitted */\n",
       "  background-color: var(--sklearn-color-fitted-level-3);\n",
       "}\n",
       "</style><div id=\"sk-container-id-13\" class=\"sk-top-container\"><div class=\"sk-text-repr-fallback\"><pre>LogisticRegression(solver=&#x27;newton-cholesky&#x27;)</pre><b>In a Jupyter environment, please rerun this cell to show the HTML representation or trust the notebook. <br />On GitHub, the HTML representation is unable to render, please try loading this page with nbviewer.org.</b></div><div class=\"sk-container\" hidden><div class=\"sk-item\"><div class=\"sk-estimator fitted sk-toggleable\"><input class=\"sk-toggleable__control sk-hidden--visually\" id=\"sk-estimator-id-13\" type=\"checkbox\" checked><label for=\"sk-estimator-id-13\" class=\"sk-toggleable__label fitted sk-toggleable__label-arrow fitted\">&nbsp;&nbsp;LogisticRegression<a class=\"sk-estimator-doc-link fitted\" rel=\"noreferrer\" target=\"_blank\" href=\"https://scikit-learn.org/1.5/modules/generated/sklearn.linear_model.LogisticRegression.html\">?<span>Documentation for LogisticRegression</span></a><span class=\"sk-estimator-doc-link fitted\">i<span>Fitted</span></span></label><div class=\"sk-toggleable__content fitted\"><pre>LogisticRegression(solver=&#x27;newton-cholesky&#x27;)</pre></div> </div></div></div></div>"
      ],
      "text/plain": [
       "LogisticRegression(solver='newton-cholesky')"
      ]
     },
     "execution_count": 754,
     "metadata": {},
     "output_type": "execute_result"
    }
   ],
   "source": [
    "model = LogisticRegression(solver='newton-cholesky')\n",
    "model.fit(x_train,y_train)\n"
   ]
  },
  {
   "cell_type": "code",
   "execution_count": 756,
   "id": "095edee8-2ecd-4667-8b70-9a422c871700",
   "metadata": {},
   "outputs": [
    {
     "data": {
      "text/plain": [
       "{'ccp_alpha': 0.0,\n",
       " 'criterion': 'friedman_mse',\n",
       " 'init': None,\n",
       " 'learning_rate': 0.1,\n",
       " 'loss': 'log_loss',\n",
       " 'max_depth': 3,\n",
       " 'max_features': None,\n",
       " 'max_leaf_nodes': None,\n",
       " 'min_impurity_decrease': 0.0,\n",
       " 'min_samples_leaf': 1,\n",
       " 'min_samples_split': 2,\n",
       " 'min_weight_fraction_leaf': 0.0,\n",
       " 'n_estimators': 100,\n",
       " 'n_iter_no_change': None,\n",
       " 'random_state': None,\n",
       " 'subsample': 1.0,\n",
       " 'tol': 0.0001,\n",
       " 'validation_fraction': 0.1,\n",
       " 'verbose': 0,\n",
       " 'warm_start': False}"
      ]
     },
     "execution_count": 756,
     "metadata": {},
     "output_type": "execute_result"
    }
   ],
   "source": [
    "params = GBT.get_params()\n",
    "params"
   ]
  },
  {
   "cell_type": "code",
   "execution_count": 777,
   "id": "5d54c6dc-6397-4366-b527-59cc47ccc1d6",
   "metadata": {},
   "outputs": [],
   "source": [
    "accuracy = accuracy_score(y_test, ypred) "
   ]
  },
  {
   "cell_type": "code",
   "execution_count": 779,
   "id": "c7fba867-a1c6-482e-9dea-50cf4a3b4c00",
   "metadata": {},
   "outputs": [],
   "source": [
    "accuract = accuracy_score(y_train, ytrain) "
   ]
  },
  {
   "cell_type": "code",
   "execution_count": 781,
   "id": "a61f540e-74af-4f33-8fa7-169ea3c2a043",
   "metadata": {},
   "outputs": [
    {
     "data": {
      "text/plain": [
       "0.8944888888888889"
      ]
     },
     "execution_count": 781,
     "metadata": {},
     "output_type": "execute_result"
    }
   ],
   "source": [
    "accuracy "
   ]
  },
  {
   "cell_type": "code",
   "execution_count": 783,
   "id": "c5ebbf58-8d6c-4338-a6cb-8efe7c5c2492",
   "metadata": {},
   "outputs": [
    {
     "data": {
      "text/plain": [
       "0.8971259259259259"
      ]
     },
     "execution_count": 783,
     "metadata": {},
     "output_type": "execute_result"
    }
   ],
   "source": [
    "accuract"
   ]
  },
  {
   "cell_type": "code",
   "execution_count": null,
   "id": "f6dd23cf-6e33-4cdf-8adf-d84c787ada83",
   "metadata": {},
   "outputs": [],
   "source": []
  },
  {
   "cell_type": "code",
   "execution_count": 786,
   "id": "169c1d3e-2f08-4e21-a549-c93c472938bb",
   "metadata": {},
   "outputs": [],
   "source": [
    "ytrain= model.predict(x_train)\n",
    "ypred = model.predict(x_test)"
   ]
  },
  {
   "cell_type": "code",
   "execution_count": 788,
   "id": "f6f7b0b2-5d6e-455d-b287-735a7503016b",
   "metadata": {},
   "outputs": [],
   "source": [
    "error = 1-accuracy "
   ]
  },
  {
   "cell_type": "code",
   "execution_count": 790,
   "id": "53e1e2c0-610d-4031-8b3c-974aebf86238",
   "metadata": {},
   "outputs": [],
   "source": [
    "errort = 1- accuract"
   ]
  },
  {
   "cell_type": "code",
   "execution_count": 792,
   "id": "a8ef3762-112e-473e-9e64-9673f49cc2e2",
   "metadata": {},
   "outputs": [
    {
     "data": {
      "text/plain": [
       "0.10551111111111111"
      ]
     },
     "execution_count": 792,
     "metadata": {},
     "output_type": "execute_result"
    }
   ],
   "source": [
    "error"
   ]
  },
  {
   "cell_type": "code",
   "execution_count": 794,
   "id": "00dad772-f2db-4c7f-ade8-c91477c64f6a",
   "metadata": {},
   "outputs": [
    {
     "data": {
      "text/plain": [
       "0.10287407407407412"
      ]
     },
     "execution_count": 794,
     "metadata": {},
     "output_type": "execute_result"
    }
   ],
   "source": [
    "errort"
   ]
  },
  {
   "cell_type": "raw",
   "id": "c618c4c9-6633-4499-bfcb-6db25e09d489",
   "metadata": {},
   "source": [
    "error "
   ]
  },
  {
   "cell_type": "raw",
   "id": "b7bbbe61-bf34-4e09-a44b-b56e28e6d91f",
   "metadata": {},
   "source": [
    "errort"
   ]
  },
  {
   "cell_type": "code",
   "execution_count": 796,
   "id": "3c7e18b6-07d3-4095-accc-01a1bab8eec1",
   "metadata": {},
   "outputs": [],
   "source": [
    "from sklearn.metrics import confusion_matrix\n",
    "from sklearn.metrics import ConfusionMatrixDisplay"
   ]
  },
  {
   "cell_type": "code",
   "execution_count": 798,
   "id": "3c06fed3-b0cb-445e-8ec0-16df8a03e235",
   "metadata": {},
   "outputs": [],
   "source": [
    "conf_marix = confusion_matrix(y_test, ypred)"
   ]
  },
  {
   "cell_type": "code",
   "execution_count": 800,
   "id": "6a0a9e82-ad91-4891-9c78-72e6f3dac8b8",
   "metadata": {
    "scrolled": true
   },
   "outputs": [
    {
     "data": {
      "text/plain": [
       "<Figure size 800x600 with 0 Axes>"
      ]
     },
     "metadata": {},
     "output_type": "display_data"
    },
    {
     "data": {
      "image/png": "[encoded data removed]",
      "text/plain": [
       "<Figure size 640x480 with 2 Axes>"
      ]
     },
     "metadata": {},
     "output_type": "display_data"
    }
   ],
   "source": [
    "disp = ConfusionMatrixDisplay(conf_marix, display_labels = [0,1])\n",
    "plt.figure(figsize = (8,6))\n",
    "\n",
    "disp.plot(cmap = plt.cm.Reds)\n",
    "\n",
    "plt.show()"
   ]
  },
  {
   "cell_type": "code",
   "execution_count": 283,
   "id": "530ec4cc-c713-4a91-a14e-e87fee27a840",
   "metadata": {},
   "outputs": [],
   "source": [
    "accuracy = accuracy_score(y_test, ypred) "
   ]
  },
  {
   "cell_type": "code",
   "execution_count": 552,
   "id": "c42e8da6-35da-4c7f-b41c-6c99bafd9f0e",
   "metadata": {},
   "outputs": [
    {
     "data": {
      "text/plain": [
       "0.8980444444444444"
      ]
     },
     "execution_count": 552,
     "metadata": {},
     "output_type": "execute_result"
    }
   ],
   "source": [
    "accuracy"
   ]
  },
  {
   "cell_type": "code",
   "execution_count": 602,
   "id": "b366fd9e-ea2b-4490-a299-148583829e22",
   "metadata": {},
   "outputs": [],
   "source": [
    "dtree = DecisionTreeClassifier()"
   ]
  },
  {
   "cell_type": "code",
   "execution_count": 740,
   "id": "675839f0-816f-44e9-a4f3-ac3d59a8ae5e",
   "metadata": {},
   "outputs": [
    {
     "ename": "TypeError",
     "evalue": "DecisionTreeClassifier.__init__() got an unexpected keyword argument 'solver'",
     "output_type": "error",
     "traceback": [
      "\u001b[1;31m---------------------------------------------------------------------------\u001b[0m",
      "\u001b[1;31mTypeError\u001b[0m                                 Traceback (most recent call last)",
      "Cell \u001b[1;32mIn[740], line 2\u001b[0m\n\u001b[0;32m      1\u001b[0m \u001b[38;5;28;01mfrom\u001b[39;00m \u001b[38;5;21;01msklearn\u001b[39;00m\u001b[38;5;21;01m.\u001b[39;00m\u001b[38;5;21;01mtree\u001b[39;00m \u001b[38;5;28;01mimport\u001b[39;00m DecisionTreeClassifier\n\u001b[1;32m----> 2\u001b[0m tc \u001b[38;5;241m=\u001b[39m DecisionTreeClassifier(solver\u001b[38;5;241m=\u001b[39m\u001b[38;5;124m'\u001b[39m\u001b[38;5;124mnewtwon-cholesky\u001b[39m\u001b[38;5;124m'\u001b[39m)\n\u001b[0;32m      3\u001b[0m tc\u001b[38;5;241m.\u001b[39mfit(x_train,y_train)\n",
      "\u001b[1;31mTypeError\u001b[0m: DecisionTreeClassifier.__init__() got an unexpected keyword argument 'solver'"
     ]
    }
   ],
   "source": [
    "from sklearn.tree import DecisionTreeClassifier\n",
    "tc = DecisionTreeClassifier(solver='newtwon-cholesky')\n",
    "tc.fit(x_train,y_train)"
   ]
  },
  {
   "cell_type": "code",
   "execution_count": 706,
   "id": "cd10c79b-64bc-4c53-9fd5-bf6d623a8cf4",
   "metadata": {},
   "outputs": [],
   "source": [
    " ypred1 = tc.predict(x_test)\n",
    " ytrain2 = tc.predict(x_train)\n",
    "params = dtree.get_params()"
   ]
  },
  {
   "cell_type": "code",
   "execution_count": 708,
   "id": "8f5f7b39-8607-4584-a7e7-61eb31d353dd",
   "metadata": {},
   "outputs": [
    {
     "data": {
      "text/plain": [
       "{'ccp_alpha': 0.0,\n",
       " 'class_weight': None,\n",
       " 'criterion': 'gini',\n",
       " 'max_depth': None,\n",
       " 'max_features': None,\n",
       " 'max_leaf_nodes': None,\n",
       " 'min_impurity_decrease': 0.0,\n",
       " 'min_samples_leaf': 1,\n",
       " 'min_samples_split': 2,\n",
       " 'min_weight_fraction_leaf': 0.0,\n",
       " 'monotonic_cst': None,\n",
       " 'random_state': None,\n",
       " 'splitter': 'best'}"
      ]
     },
     "execution_count": 708,
     "metadata": {},
     "output_type": "execute_result"
    }
   ],
   "source": [
    "params = dtree.get_params()\n",
    "params"
   ]
  },
  {
   "cell_type": "code",
   "execution_count": 710,
   "id": "061e013f-91ac-442c-b69b-9e93e1f09acd",
   "metadata": {},
   "outputs": [
    {
     "data": {
      "text/plain": [
       "0.10462222222222217"
      ]
     },
     "execution_count": 710,
     "metadata": {},
     "output_type": "execute_result"
    }
   ],
   "source": [
    "accuracy = accuracy_score(y_test, ypred1) \n",
    "accuracyt = accuracy_score(y_train, ytrain2) \n",
    "errort = 1- accuracyt\n",
    "errort\n",
    "error = 1- accuracy \n",
    "error"
   ]
  },
  {
   "cell_type": "code",
   "execution_count": 712,
   "id": "45305ee1-01d9-4593-bade-377ff233668b",
   "metadata": {},
   "outputs": [
    {
     "data": {
      "text/plain": [
       "0.8953777777777778"
      ]
     },
     "execution_count": 712,
     "metadata": {},
     "output_type": "execute_result"
    }
   ],
   "source": [
    "accuracy"
   ]
  },
  {
   "cell_type": "code",
   "execution_count": 714,
   "id": "82ead69b-2f76-48f9-b13d-9e469becd204",
   "metadata": {},
   "outputs": [],
   "source": [
    "accuracyt = accuracy_score(y_train, ytrain2) "
   ]
  },
  {
   "cell_type": "code",
   "execution_count": 716,
   "id": "01dea367-4e9b-4c12-aa22-054768d9acab",
   "metadata": {},
   "outputs": [
    {
     "data": {
      "text/plain": [
       "1.0"
      ]
     },
     "execution_count": 716,
     "metadata": {},
     "output_type": "execute_result"
    }
   ],
   "source": [
    "accuracyt"
   ]
  },
  {
   "cell_type": "code",
   "execution_count": 718,
   "id": "fe781a08-00ee-4f6d-a8a4-ca26b77d193d",
   "metadata": {},
   "outputs": [
    {
     "data": {
      "text/plain": [
       "0.10462222222222217"
      ]
     },
     "execution_count": 718,
     "metadata": {},
     "output_type": "execute_result"
    }
   ],
   "source": [
    "error = 1- accuracy \n",
    "error"
   ]
  },
  {
   "cell_type": "code",
   "execution_count": 720,
   "id": "4135e608-a083-4c6c-bf30-8cd7d04cd98c",
   "metadata": {},
   "outputs": [],
   "source": [
    "errort = 1- accuracyt"
   ]
  },
  {
   "cell_type": "raw",
   "id": "7f872481-5c5c-4948-a0cb-714f7cc85e9b",
   "metadata": {},
   "source": [
    "errort"
   ]
  },
  {
   "cell_type": "code",
   "execution_count": 722,
   "id": "6ace0cfb-997e-4d54-ac94-18f8fc5c8edf",
   "metadata": {},
   "outputs": [
    {
     "data": {
      "text/plain": [
       "0.0"
      ]
     },
     "execution_count": 722,
     "metadata": {},
     "output_type": "execute_result"
    }
   ],
   "source": [
    "errort\n"
   ]
  },
  {
   "cell_type": "code",
   "execution_count": null,
   "id": "a6e4d18c-6b1d-4c50-8149-031c1907ac31",
   "metadata": {},
   "outputs": [],
   "source": []
  },
  {
   "cell_type": "code",
   "execution_count": null,
   "id": "1ccccb9f-58e5-41c9-a97f-bb324fe90262",
   "metadata": {},
   "outputs": [],
   "source": []
  },
  {
   "cell_type": "code",
   "execution_count": 726,
   "id": "092b9bee-05f5-487d-a841-0ce4e67da96c",
   "metadata": {},
   "outputs": [
    {
     "name": "stdout",
     "output_type": "stream",
     "text": [
      "Testing MSE: 0.10462222222222223\n"
     ]
    }
   ],
   "source": [
    "Test_mse1 = mean_squared_error(y_test, ypred1)\n",
    "print(f\"Testing MSE: {Test_mse1}\")\n"
   ]
  },
  {
   "cell_type": "code",
   "execution_count": 728,
   "id": "694055bf-edb9-4e54-a6b1-86ce0ae218b8",
   "metadata": {},
   "outputs": [],
   "source": [
    "conf_marix1 = confusion_matrix(y_test, ypred1)"
   ]
  },
  {
   "cell_type": "code",
   "execution_count": 730,
   "id": "e801ab49-e693-4eb9-a473-fb76769c2271",
   "metadata": {},
   "outputs": [],
   "source": [
    "accuracy1 = accuracy_score(y_test, ypred1) "
   ]
  },
  {
   "cell_type": "code",
   "execution_count": 732,
   "id": "a8937f9e-40b4-4e7d-bcee-6518a538a3eb",
   "metadata": {},
   "outputs": [
    {
     "data": {
      "text/plain": [
       "0.8953777777777778"
      ]
     },
     "execution_count": 732,
     "metadata": {},
     "output_type": "execute_result"
    }
   ],
   "source": [
    "accuracy1"
   ]
  },
  {
   "cell_type": "code",
   "execution_count": 734,
   "id": "cb64384d-628d-4e0d-b498-b7a46ece871f",
   "metadata": {},
   "outputs": [
    {
     "data": {
      "text/plain": [
       "<Figure size 800x600 with 0 Axes>"
      ]
     },
     "metadata": {},
     "output_type": "display_data"
    },
    {
     "data": {
      "image/png": "[encoded data removed]",
      "text/plain": [
       "<Figure size 640x480 with 2 Axes>"
      ]
     },
     "metadata": {},
     "output_type": "display_data"
    }
   ],
   "source": [
    "disp = ConfusionMatrixDisplay(conf_marix1, display_labels = [0,1])\n",
    "plt.figure(figsize = (8,6))\n",
    "disp.plot(cmap = plt.cm.Reds)\n",
    "\n",
    "plt.show()"
   ]
  },
  {
   "cell_type": "code",
   "execution_count": 372,
   "id": "aa0a5c3c-faeb-4db3-81b6-37fb0fd71515",
   "metadata": {},
   "outputs": [],
   "source": [
    "from sklearn.ensemble import RandomForestClassifier\n",
    "RF = RandomForestClassifier(n_estimators=100)\n",
    "RF.fit(x_train, y_train)\n",
    "y_pred2 = RF.predict(x_test)\n",
    "conf_marix = confusion_matrix(y_test, y_pred2)\n",
    "\n"
   ]
  },
  {
   "cell_type": "code",
   "execution_count": 373,
   "id": "3b6dfa8c-1363-4b59-a4ad-c21f0cdedc17",
   "metadata": {},
   "outputs": [
    {
     "data": {
      "text/plain": [
       "<Figure size 800x600 with 0 Axes>"
      ]
     },
     "metadata": {},
     "output_type": "display_data"
    },
    {
     "data": {
      "image/png": "[encoded data removed]",
      "text/plain": [
       "<Figure size 640x480 with 2 Axes>"
      ]
     },
     "metadata": {},
     "output_type": "display_data"
    }
   ],
   "source": [
    "disp = ConfusionMatrixDisplay(conf_marix, display_labels = [0,1])\n",
    "plt.figure(figsize = (8,6))\n",
    "disp.plot(cmap = plt.cm.Reds)\n",
    "\n",
    "plt.show()"
   ]
  },
  {
   "cell_type": "code",
   "execution_count": 376,
   "id": "430af948-a33d-4308-9a59-7dd3461f4a13",
   "metadata": {},
   "outputs": [],
   "source": [
    "\n",
    " y_train3 = RF.predict(x_train)"
   ]
  },
  {
   "cell_type": "code",
   "execution_count": 378,
   "id": "9edd3938-cce5-495c-bc0b-707001945f61",
   "metadata": {},
   "outputs": [
    {
     "data": {
      "text/plain": [
       "0.07422222222222219"
      ]
     },
     "execution_count": 378,
     "metadata": {},
     "output_type": "execute_result"
    }
   ],
   "source": [
    "accuracy = accuracy_score(y_test, y_pred2) \n",
    "accuracy\n",
    "accuracyt = accuracy_score(y_train, y_train3) \n",
    "accuracyt\n",
    "errort = 1- accuracyt\n",
    "errort\n",
    "error = 1- accuracy \n",
    "error\n"
   ]
  },
  {
   "cell_type": "code",
   "execution_count": 380,
   "id": "181df0b4-d468-44a3-b69e-0afd7104bb1e",
   "metadata": {},
   "outputs": [
    {
     "data": {
      "text/plain": [
       "0.0"
      ]
     },
     "execution_count": 380,
     "metadata": {},
     "output_type": "execute_result"
    }
   ],
   "source": [
    "errort = 1- accuracyt\n",
    "errort"
   ]
  },
  {
   "cell_type": "code",
   "execution_count": 382,
   "id": "06100554-25be-4a74-9751-bc0d4f9ef605",
   "metadata": {},
   "outputs": [
    {
     "data": {
      "text/plain": [
       "1.0"
      ]
     },
     "execution_count": 382,
     "metadata": {},
     "output_type": "execute_result"
    }
   ],
   "source": [
    "accuracyt"
   ]
  },
  {
   "cell_type": "code",
   "execution_count": 390,
   "id": "e1d331e8-ed95-433a-b008-4026999e49aa",
   "metadata": {},
   "outputs": [
    {
     "data": {
      "text/plain": [
       "0.9257777777777778"
      ]
     },
     "execution_count": 390,
     "metadata": {},
     "output_type": "execute_result"
    }
   ],
   "source": [
    "accuracy"
   ]
  },
  {
   "cell_type": "code",
   "execution_count": 384,
   "id": "2d5c4abb-40e9-487c-8852-259fdf10f6e5",
   "metadata": {},
   "outputs": [
    {
     "data": {
      "text/plain": [
       "0.07422222222222219"
      ]
     },
     "execution_count": 384,
     "metadata": {},
     "output_type": "execute_result"
    }
   ],
   "source": [
    "error = 1- accuracy \n",
    "error\n"
   ]
  },
  {
   "cell_type": "code",
   "execution_count": 386,
   "id": "d32ee2cc-f381-4eaa-b908-271450dbfb6d",
   "metadata": {},
   "outputs": [],
   "source": [
    "accuracy2 = accuracy_score(y_test, y_pred2) "
   ]
  },
  {
   "cell_type": "code",
   "execution_count": 388,
   "id": "7832ca7a-481a-475a-8078-d95a9978783f",
   "metadata": {},
   "outputs": [
    {
     "data": {
      "text/plain": [
       "0.9257777777777778"
      ]
     },
     "execution_count": 388,
     "metadata": {},
     "output_type": "execute_result"
    }
   ],
   "source": [
    "accuracy2 "
   ]
  },
  {
   "cell_type": "code",
   "execution_count": 586,
   "id": "c05ba329-1d6d-451c-83b2-fd11391c8a7c",
   "metadata": {},
   "outputs": [],
   "source": [
    "from sklearn.ensemble import GradientBoostingClassifier \n",
    "GBT = GradientBoostingClassifier()\n",
    "GBT.fit(x_train,y_train)\n",
    "y_pred3 = GBT.predict(x_test)\n",
    "conf_marix = confusion_matrix(y_test, y_pred3)"
   ]
  },
  {
   "cell_type": "code",
   "execution_count": 587,
   "id": "dff7ea20-399a-4c39-b9b3-0ba1e578603b",
   "metadata": {},
   "outputs": [
    {
     "data": {
      "text/plain": [
       "<Figure size 800x600 with 0 Axes>"
      ]
     },
     "metadata": {},
     "output_type": "display_data"
    },
    {
     "data": {
      "image/png": "[encoded data removed]",
      "text/plain": [
       "<Figure size 640x480 with 2 Axes>"
      ]
     },
     "metadata": {},
     "output_type": "display_data"
    }
   ],
   "source": [
    "disp = ConfusionMatrixDisplay(conf_marix, display_labels = [0,1])\n",
    "plt.figure(figsize = (8,6))\n",
    "disp.plot(cmap = plt.cm.Reds)\n",
    "\n",
    "plt.show()"
   ]
  },
  {
   "cell_type": "code",
   "execution_count": 588,
   "id": "20efc12b-e9ba-4716-bd1e-650b3c9b2349",
   "metadata": {},
   "outputs": [],
   "source": [
    "accuracy3 = accuracy_score(y_test,y_pred3)"
   ]
  },
  {
   "cell_type": "code",
   "execution_count": 589,
   "id": "c092548b-b063-4052-bdd4-18a8bf5aab70",
   "metadata": {},
   "outputs": [
    {
     "data": {
      "text/plain": [
       "0.9226666666666666"
      ]
     },
     "execution_count": 589,
     "metadata": {},
     "output_type": "execute_result"
    }
   ],
   "source": [
    "accuracy3"
   ]
  },
  {
   "cell_type": "code",
   "execution_count": 404,
   "id": "d13fdf9d-7bab-49f9-b194-a251ff56d3d2",
   "metadata": {},
   "outputs": [
    {
     "data": {
      "text/plain": [
       "0.07733333333333337"
      ]
     },
     "execution_count": 404,
     "metadata": {},
     "output_type": "execute_result"
    }
   ],
   "source": [
    "error = 1-accuracy3\n",
    "error"
   ]
  },
  {
   "cell_type": "code",
   "execution_count": 410,
   "id": "0218f0a8-eeb5-465e-8858-f40c4bece0f1",
   "metadata": {},
   "outputs": [
    {
     "data": {
      "text/plain": [
       "0.9284148148148148"
      ]
     },
     "execution_count": 410,
     "metadata": {},
     "output_type": "execute_result"
    }
   ],
   "source": [
    "accuracy43 = accuracy_score(y_train4, y_train)\n",
    "accuracy43"
   ]
  },
  {
   "cell_type": "code",
   "execution_count": 414,
   "id": "2467e077-4f24-4524-88f3-a8a516c9e875",
   "metadata": {},
   "outputs": [
    {
     "data": {
      "text/plain": [
       "0.0715851851851852"
      ]
     },
     "execution_count": 414,
     "metadata": {},
     "output_type": "execute_result"
    }
   ],
   "source": [
    "errort = 1-accuracy43\n",
    "errort"
   ]
  },
  {
   "cell_type": "code",
   "execution_count": 113,
   "id": "57ae69cd-1e6b-42d3-bb05-2b1314597f0f",
   "metadata": {},
   "outputs": [],
   "source": [
    "import pickle\n",
    "\n",
    "# Assuming you have trained models: log_reg, rf, gbt, dt\n",
    "models = {\n",
    "    \"logistic_regression\": model,\n",
    "    \"random_forest\": RF,\n",
    "    \"gradient_boosted\": GBT,\n",
    "    \"decision_tree\": tc\n",
    "}\n",
    "\n",
    "# Save each model\n",
    "for name, model in models.items():\n",
    "    with open(f\"{name}.pkl\", \"wb\") as f:\n",
    "        pickle.dump(model, f)\n"
   ]
  },
  {
   "cell_type": "code",
   "execution_count": 115,
   "id": "8d9e0afc-2cb3-4250-ac3a-f5a8c79c97e4",
   "metadata": {},
   "outputs": [
    {
     "data": {
      "text/html": [
       "<div>\n",
       "<style scoped>\n",
       "    .dataframe tbody tr th:only-of-type {\n",
       "        vertical-align: middle;\n",
       "    }\n",
       "\n",
       "    .dataframe tbody tr th {\n",
       "        vertical-align: top;\n",
       "    }\n",
       "\n",
       "    .dataframe thead th {\n",
       "        text-align: right;\n",
       "    }\n",
       "</style>\n",
       "<table border=\"1\" class=\"dataframe\">\n",
       "  <thead>\n",
       "    <tr style=\"text-align: right;\">\n",
       "      <th></th>\n",
       "      <th>person_age</th>\n",
       "      <th>person_gender</th>\n",
       "      <th>person_income</th>\n",
       "      <th>person_emp_exp</th>\n",
       "      <th>loan_amnt</th>\n",
       "      <th>loan_int_rate</th>\n",
       "      <th>loan_percent_income</th>\n",
       "      <th>cb_person_cred_hist_length</th>\n",
       "      <th>credit_score</th>\n",
       "      <th>previous_loan_defaults_on_file</th>\n",
       "      <th>...</th>\n",
       "      <th>loan_intent_MEDICAL</th>\n",
       "      <th>loan_intent_PERSONAL</th>\n",
       "      <th>person_home_ownership_MORTGAGE</th>\n",
       "      <th>person_home_ownership_OTHER</th>\n",
       "      <th>person_home_ownership_OWN</th>\n",
       "      <th>person_home_ownership_RENT</th>\n",
       "      <th>person_education_Associate</th>\n",
       "      <th>person_education_Bachelor</th>\n",
       "      <th>person_education_Doctorate</th>\n",
       "      <th>person_education_Master</th>\n",
       "    </tr>\n",
       "  </thead>\n",
       "  <tbody>\n",
       "    <tr>\n",
       "      <th>0</th>\n",
       "      <td>22.0</td>\n",
       "      <td>1</td>\n",
       "      <td>71948.0</td>\n",
       "      <td>0</td>\n",
       "      <td>35000.0</td>\n",
       "      <td>16.02</td>\n",
       "      <td>0.49</td>\n",
       "      <td>3.0</td>\n",
       "      <td>561</td>\n",
       "      <td>0</td>\n",
       "      <td>...</td>\n",
       "      <td>0</td>\n",
       "      <td>1</td>\n",
       "      <td>0</td>\n",
       "      <td>0</td>\n",
       "      <td>0</td>\n",
       "      <td>1</td>\n",
       "      <td>0</td>\n",
       "      <td>0</td>\n",
       "      <td>0</td>\n",
       "      <td>1</td>\n",
       "    </tr>\n",
       "    <tr>\n",
       "      <th>1</th>\n",
       "      <td>21.0</td>\n",
       "      <td>1</td>\n",
       "      <td>12282.0</td>\n",
       "      <td>0</td>\n",
       "      <td>1000.0</td>\n",
       "      <td>11.14</td>\n",
       "      <td>0.08</td>\n",
       "      <td>2.0</td>\n",
       "      <td>504</td>\n",
       "      <td>1</td>\n",
       "      <td>...</td>\n",
       "      <td>0</td>\n",
       "      <td>0</td>\n",
       "      <td>0</td>\n",
       "      <td>0</td>\n",
       "      <td>1</td>\n",
       "      <td>0</td>\n",
       "      <td>0</td>\n",
       "      <td>0</td>\n",
       "      <td>0</td>\n",
       "      <td>0</td>\n",
       "    </tr>\n",
       "    <tr>\n",
       "      <th>2</th>\n",
       "      <td>25.0</td>\n",
       "      <td>1</td>\n",
       "      <td>12438.0</td>\n",
       "      <td>3</td>\n",
       "      <td>5500.0</td>\n",
       "      <td>12.87</td>\n",
       "      <td>0.44</td>\n",
       "      <td>3.0</td>\n",
       "      <td>635</td>\n",
       "      <td>0</td>\n",
       "      <td>...</td>\n",
       "      <td>1</td>\n",
       "      <td>0</td>\n",
       "      <td>1</td>\n",
       "      <td>0</td>\n",
       "      <td>0</td>\n",
       "      <td>0</td>\n",
       "      <td>0</td>\n",
       "      <td>0</td>\n",
       "      <td>0</td>\n",
       "      <td>0</td>\n",
       "    </tr>\n",
       "    <tr>\n",
       "      <th>3</th>\n",
       "      <td>23.0</td>\n",
       "      <td>1</td>\n",
       "      <td>79753.0</td>\n",
       "      <td>0</td>\n",
       "      <td>35000.0</td>\n",
       "      <td>15.23</td>\n",
       "      <td>0.44</td>\n",
       "      <td>2.0</td>\n",
       "      <td>675</td>\n",
       "      <td>0</td>\n",
       "      <td>...</td>\n",
       "      <td>1</td>\n",
       "      <td>0</td>\n",
       "      <td>0</td>\n",
       "      <td>0</td>\n",
       "      <td>0</td>\n",
       "      <td>1</td>\n",
       "      <td>0</td>\n",
       "      <td>1</td>\n",
       "      <td>0</td>\n",
       "      <td>0</td>\n",
       "    </tr>\n",
       "    <tr>\n",
       "      <th>4</th>\n",
       "      <td>24.0</td>\n",
       "      <td>0</td>\n",
       "      <td>66135.0</td>\n",
       "      <td>1</td>\n",
       "      <td>35000.0</td>\n",
       "      <td>14.27</td>\n",
       "      <td>0.53</td>\n",
       "      <td>4.0</td>\n",
       "      <td>586</td>\n",
       "      <td>0</td>\n",
       "      <td>...</td>\n",
       "      <td>1</td>\n",
       "      <td>0</td>\n",
       "      <td>0</td>\n",
       "      <td>0</td>\n",
       "      <td>0</td>\n",
       "      <td>1</td>\n",
       "      <td>0</td>\n",
       "      <td>0</td>\n",
       "      <td>0</td>\n",
       "      <td>1</td>\n",
       "    </tr>\n",
       "    <tr>\n",
       "      <th>...</th>\n",
       "      <td>...</td>\n",
       "      <td>...</td>\n",
       "      <td>...</td>\n",
       "      <td>...</td>\n",
       "      <td>...</td>\n",
       "      <td>...</td>\n",
       "      <td>...</td>\n",
       "      <td>...</td>\n",
       "      <td>...</td>\n",
       "      <td>...</td>\n",
       "      <td>...</td>\n",
       "      <td>...</td>\n",
       "      <td>...</td>\n",
       "      <td>...</td>\n",
       "      <td>...</td>\n",
       "      <td>...</td>\n",
       "      <td>...</td>\n",
       "      <td>...</td>\n",
       "      <td>...</td>\n",
       "      <td>...</td>\n",
       "      <td>...</td>\n",
       "    </tr>\n",
       "    <tr>\n",
       "      <th>44995</th>\n",
       "      <td>27.0</td>\n",
       "      <td>0</td>\n",
       "      <td>47971.0</td>\n",
       "      <td>6</td>\n",
       "      <td>15000.0</td>\n",
       "      <td>15.66</td>\n",
       "      <td>0.31</td>\n",
       "      <td>3.0</td>\n",
       "      <td>645</td>\n",
       "      <td>0</td>\n",
       "      <td>...</td>\n",
       "      <td>1</td>\n",
       "      <td>0</td>\n",
       "      <td>0</td>\n",
       "      <td>0</td>\n",
       "      <td>0</td>\n",
       "      <td>1</td>\n",
       "      <td>1</td>\n",
       "      <td>0</td>\n",
       "      <td>0</td>\n",
       "      <td>0</td>\n",
       "    </tr>\n",
       "    <tr>\n",
       "      <th>44996</th>\n",
       "      <td>37.0</td>\n",
       "      <td>1</td>\n",
       "      <td>65800.0</td>\n",
       "      <td>17</td>\n",
       "      <td>9000.0</td>\n",
       "      <td>14.07</td>\n",
       "      <td>0.14</td>\n",
       "      <td>11.0</td>\n",
       "      <td>621</td>\n",
       "      <td>0</td>\n",
       "      <td>...</td>\n",
       "      <td>0</td>\n",
       "      <td>0</td>\n",
       "      <td>0</td>\n",
       "      <td>0</td>\n",
       "      <td>0</td>\n",
       "      <td>1</td>\n",
       "      <td>1</td>\n",
       "      <td>0</td>\n",
       "      <td>0</td>\n",
       "      <td>0</td>\n",
       "    </tr>\n",
       "    <tr>\n",
       "      <th>44997</th>\n",
       "      <td>33.0</td>\n",
       "      <td>0</td>\n",
       "      <td>56942.0</td>\n",
       "      <td>7</td>\n",
       "      <td>2771.0</td>\n",
       "      <td>10.02</td>\n",
       "      <td>0.05</td>\n",
       "      <td>10.0</td>\n",
       "      <td>668</td>\n",
       "      <td>0</td>\n",
       "      <td>...</td>\n",
       "      <td>0</td>\n",
       "      <td>0</td>\n",
       "      <td>0</td>\n",
       "      <td>0</td>\n",
       "      <td>0</td>\n",
       "      <td>1</td>\n",
       "      <td>1</td>\n",
       "      <td>0</td>\n",
       "      <td>0</td>\n",
       "      <td>0</td>\n",
       "    </tr>\n",
       "    <tr>\n",
       "      <th>44998</th>\n",
       "      <td>29.0</td>\n",
       "      <td>0</td>\n",
       "      <td>33164.0</td>\n",
       "      <td>4</td>\n",
       "      <td>12000.0</td>\n",
       "      <td>13.23</td>\n",
       "      <td>0.36</td>\n",
       "      <td>6.0</td>\n",
       "      <td>604</td>\n",
       "      <td>0</td>\n",
       "      <td>...</td>\n",
       "      <td>0</td>\n",
       "      <td>0</td>\n",
       "      <td>0</td>\n",
       "      <td>0</td>\n",
       "      <td>0</td>\n",
       "      <td>1</td>\n",
       "      <td>0</td>\n",
       "      <td>1</td>\n",
       "      <td>0</td>\n",
       "      <td>0</td>\n",
       "    </tr>\n",
       "    <tr>\n",
       "      <th>44999</th>\n",
       "      <td>24.0</td>\n",
       "      <td>0</td>\n",
       "      <td>51609.0</td>\n",
       "      <td>1</td>\n",
       "      <td>6665.0</td>\n",
       "      <td>17.05</td>\n",
       "      <td>0.13</td>\n",
       "      <td>3.0</td>\n",
       "      <td>628</td>\n",
       "      <td>0</td>\n",
       "      <td>...</td>\n",
       "      <td>0</td>\n",
       "      <td>0</td>\n",
       "      <td>0</td>\n",
       "      <td>0</td>\n",
       "      <td>0</td>\n",
       "      <td>1</td>\n",
       "      <td>0</td>\n",
       "      <td>0</td>\n",
       "      <td>0</td>\n",
       "      <td>0</td>\n",
       "    </tr>\n",
       "  </tbody>\n",
       "</table>\n",
       "<p>45000 rows × 24 columns</p>\n",
       "</div>"
      ],
      "text/plain": [
       "       person_age  person_gender  person_income  person_emp_exp  loan_amnt  \\\n",
       "0            22.0              1        71948.0               0    35000.0   \n",
       "1            21.0              1        12282.0               0     1000.0   \n",
       "2            25.0              1        12438.0               3     5500.0   \n",
       "3            23.0              1        79753.0               0    35000.0   \n",
       "4            24.0              0        66135.0               1    35000.0   \n",
       "...           ...            ...            ...             ...        ...   \n",
       "44995        27.0              0        47971.0               6    15000.0   \n",
       "44996        37.0              1        65800.0              17     9000.0   \n",
       "44997        33.0              0        56942.0               7     2771.0   \n",
       "44998        29.0              0        33164.0               4    12000.0   \n",
       "44999        24.0              0        51609.0               1     6665.0   \n",
       "\n",
       "       loan_int_rate  loan_percent_income  cb_person_cred_hist_length  \\\n",
       "0              16.02                 0.49                         3.0   \n",
       "1              11.14                 0.08                         2.0   \n",
       "2              12.87                 0.44                         3.0   \n",
       "3              15.23                 0.44                         2.0   \n",
       "4              14.27                 0.53                         4.0   \n",
       "...              ...                  ...                         ...   \n",
       "44995          15.66                 0.31                         3.0   \n",
       "44996          14.07                 0.14                        11.0   \n",
       "44997          10.02                 0.05                        10.0   \n",
       "44998          13.23                 0.36                         6.0   \n",
       "44999          17.05                 0.13                         3.0   \n",
       "\n",
       "       credit_score  previous_loan_defaults_on_file  ...  loan_intent_MEDICAL  \\\n",
       "0               561                               0  ...                    0   \n",
       "1               504                               1  ...                    0   \n",
       "2               635                               0  ...                    1   \n",
       "3               675                               0  ...                    1   \n",
       "4               586                               0  ...                    1   \n",
       "...             ...                             ...  ...                  ...   \n",
       "44995           645                               0  ...                    1   \n",
       "44996           621                               0  ...                    0   \n",
       "44997           668                               0  ...                    0   \n",
       "44998           604                               0  ...                    0   \n",
       "44999           628                               0  ...                    0   \n",
       "\n",
       "       loan_intent_PERSONAL  person_home_ownership_MORTGAGE  \\\n",
       "0                         1                               0   \n",
       "1                         0                               0   \n",
       "2                         0                               1   \n",
       "3                         0                               0   \n",
       "4                         0                               0   \n",
       "...                     ...                             ...   \n",
       "44995                     0                               0   \n",
       "44996                     0                               0   \n",
       "44997                     0                               0   \n",
       "44998                     0                               0   \n",
       "44999                     0                               0   \n",
       "\n",
       "       person_home_ownership_OTHER  person_home_ownership_OWN  \\\n",
       "0                                0                          0   \n",
       "1                                0                          1   \n",
       "2                                0                          0   \n",
       "3                                0                          0   \n",
       "4                                0                          0   \n",
       "...                            ...                        ...   \n",
       "44995                            0                          0   \n",
       "44996                            0                          0   \n",
       "44997                            0                          0   \n",
       "44998                            0                          0   \n",
       "44999                            0                          0   \n",
       "\n",
       "       person_home_ownership_RENT  person_education_Associate  \\\n",
       "0                               1                           0   \n",
       "1                               0                           0   \n",
       "2                               0                           0   \n",
       "3                               1                           0   \n",
       "4                               1                           0   \n",
       "...                           ...                         ...   \n",
       "44995                           1                           1   \n",
       "44996                           1                           1   \n",
       "44997                           1                           1   \n",
       "44998                           1                           0   \n",
       "44999                           1                           0   \n",
       "\n",
       "       person_education_Bachelor  person_education_Doctorate  \\\n",
       "0                              0                           0   \n",
       "1                              0                           0   \n",
       "2                              0                           0   \n",
       "3                              1                           0   \n",
       "4                              0                           0   \n",
       "...                          ...                         ...   \n",
       "44995                          0                           0   \n",
       "44996                          0                           0   \n",
       "44997                          0                           0   \n",
       "44998                          1                           0   \n",
       "44999                          0                           0   \n",
       "\n",
       "       person_education_Master  \n",
       "0                            1  \n",
       "1                            0  \n",
       "2                            0  \n",
       "3                            0  \n",
       "4                            1  \n",
       "...                        ...  \n",
       "44995                        0  \n",
       "44996                        0  \n",
       "44997                        0  \n",
       "44998                        0  \n",
       "44999                        0  \n",
       "\n",
       "[45000 rows x 24 columns]"
      ]
     },
     "execution_count": 115,
     "metadata": {},
     "output_type": "execute_result"
    }
   ],
   "source": [
    "df"
   ]
  },
  {
   "cell_type": "code",
   "execution_count": 117,
   "id": "fca8d6ee-f9e5-4f83-884e-2f32a27a0526",
   "metadata": {},
   "outputs": [
    {
     "name": "stdout",
     "output_type": "stream",
     "text": [
      "Requirement already satisfied: tensorflow in c:\\users\\mlesa\\anaconda3\\lib\\site-packages (2.18.0)\n",
      "Requirement already satisfied: tensorflow-intel==2.18.0 in c:\\users\\mlesa\\anaconda3\\lib\\site-packages (from tensorflow) (2.18.0)\n",
      "Requirement already satisfied: absl-py>=1.0.0 in c:\\users\\mlesa\\anaconda3\\lib\\site-packages (from tensorflow-intel==2.18.0->tensorflow) (2.1.0)\n",
      "Requirement already satisfied: astunparse>=1.6.0 in c:\\users\\mlesa\\anaconda3\\lib\\site-packages (from tensorflow-intel==2.18.0->tensorflow) (1.6.3)\n",
      "Requirement already satisfied: flatbuffers>=24.3.25 in c:\\users\\mlesa\\anaconda3\\lib\\site-packages (from tensorflow-intel==2.18.0->tensorflow) (25.2.10)\n",
      "Requirement already satisfied: gast!=0.5.0,!=0.5.1,!=0.5.2,>=0.2.1 in c:\\users\\mlesa\\anaconda3\\lib\\site-packages (from tensorflow-intel==2.18.0->tensorflow) (0.6.0)\n",
      "Requirement already satisfied: google-pasta>=0.1.1 in c:\\users\\mlesa\\anaconda3\\lib\\site-packages (from tensorflow-intel==2.18.0->tensorflow) (0.2.0)\n",
      "Requirement already satisfied: libclang>=13.0.0 in c:\\users\\mlesa\\anaconda3\\lib\\site-packages (from tensorflow-intel==2.18.0->tensorflow) (18.1.1)\n",
      "Requirement already satisfied: opt-einsum>=2.3.2 in c:\\users\\mlesa\\anaconda3\\lib\\site-packages (from tensorflow-intel==2.18.0->tensorflow) (3.4.0)\n",
      "Requirement already satisfied: packaging in c:\\users\\mlesa\\anaconda3\\lib\\site-packages (from tensorflow-intel==2.18.0->tensorflow) (24.1)\n",
      "Requirement already satisfied: protobuf!=4.21.0,!=4.21.1,!=4.21.2,!=4.21.3,!=4.21.4,!=4.21.5,<6.0.0dev,>=3.20.3 in c:\\users\\mlesa\\anaconda3\\lib\\site-packages (from tensorflow-intel==2.18.0->tensorflow) (4.25.3)\n",
      "Requirement already satisfied: requests<3,>=2.21.0 in c:\\users\\mlesa\\anaconda3\\lib\\site-packages (from tensorflow-intel==2.18.0->tensorflow) (2.32.3)\n",
      "Requirement already satisfied: setuptools in c:\\users\\mlesa\\anaconda3\\lib\\site-packages (from tensorflow-intel==2.18.0->tensorflow) (75.1.0)\n",
      "Requirement already satisfied: six>=1.12.0 in c:\\users\\mlesa\\anaconda3\\lib\\site-packages (from tensorflow-intel==2.18.0->tensorflow) (1.16.0)\n",
      "Requirement already satisfied: termcolor>=1.1.0 in c:\\users\\mlesa\\anaconda3\\lib\\site-packages (from tensorflow-intel==2.18.0->tensorflow) (2.5.0)\n",
      "Requirement already satisfied: typing-extensions>=3.6.6 in c:\\users\\mlesa\\anaconda3\\lib\\site-packages (from tensorflow-intel==2.18.0->tensorflow) (4.11.0)\n",
      "Requirement already satisfied: wrapt>=1.11.0 in c:\\users\\mlesa\\anaconda3\\lib\\site-packages (from tensorflow-intel==2.18.0->tensorflow) (1.14.1)\n",
      "Requirement already satisfied: grpcio<2.0,>=1.24.3 in c:\\users\\mlesa\\anaconda3\\lib\\site-packages (from tensorflow-intel==2.18.0->tensorflow) (1.70.0)\n",
      "Requirement already satisfied: tensorboard<2.19,>=2.18 in c:\\users\\mlesa\\anaconda3\\lib\\site-packages (from tensorflow-intel==2.18.0->tensorflow) (2.18.0)\n",
      "Requirement already satisfied: keras>=3.5.0 in c:\\users\\mlesa\\anaconda3\\lib\\site-packages (from tensorflow-intel==2.18.0->tensorflow) (3.8.0)\n",
      "Requirement already satisfied: numpy<2.1.0,>=1.26.0 in c:\\users\\mlesa\\anaconda3\\lib\\site-packages (from tensorflow-intel==2.18.0->tensorflow) (1.26.4)\n",
      "Requirement already satisfied: h5py>=3.11.0 in c:\\users\\mlesa\\anaconda3\\lib\\site-packages (from tensorflow-intel==2.18.0->tensorflow) (3.13.0)\n",
      "Requirement already satisfied: ml-dtypes<0.5.0,>=0.4.0 in c:\\users\\mlesa\\anaconda3\\lib\\site-packages (from tensorflow-intel==2.18.0->tensorflow) (0.4.1)\n",
      "Requirement already satisfied: wheel<1.0,>=0.23.0 in c:\\users\\mlesa\\anaconda3\\lib\\site-packages (from astunparse>=1.6.0->tensorflow-intel==2.18.0->tensorflow) (0.44.0)\n",
      "Requirement already satisfied: rich in c:\\users\\mlesa\\anaconda3\\lib\\site-packages (from keras>=3.5.0->tensorflow-intel==2.18.0->tensorflow) (13.7.1)\n",
      "Requirement already satisfied: namex in c:\\users\\mlesa\\anaconda3\\lib\\site-packages (from keras>=3.5.0->tensorflow-intel==2.18.0->tensorflow) (0.0.8)\n",
      "Requirement already satisfied: optree in c:\\users\\mlesa\\anaconda3\\lib\\site-packages (from keras>=3.5.0->tensorflow-intel==2.18.0->tensorflow) (0.14.0)\n",
      "Requirement already satisfied: charset-normalizer<4,>=2 in c:\\users\\mlesa\\anaconda3\\lib\\site-packages (from requests<3,>=2.21.0->tensorflow-intel==2.18.0->tensorflow) (3.3.2)\n",
      "Requirement already satisfied: idna<4,>=2.5 in c:\\users\\mlesa\\anaconda3\\lib\\site-packages (from requests<3,>=2.21.0->tensorflow-intel==2.18.0->tensorflow) (3.7)\n",
      "Requirement already satisfied: urllib3<3,>=1.21.1 in c:\\users\\mlesa\\anaconda3\\lib\\site-packages (from requests<3,>=2.21.0->tensorflow-intel==2.18.0->tensorflow) (2.2.3)\n",
      "Requirement already satisfied: certifi>=2017.4.17 in c:\\users\\mlesa\\anaconda3\\lib\\site-packages (from requests<3,>=2.21.0->tensorflow-intel==2.18.0->tensorflow) (2025.1.31)\n",
      "Requirement already satisfied: markdown>=2.6.8 in c:\\users\\mlesa\\anaconda3\\lib\\site-packages (from tensorboard<2.19,>=2.18->tensorflow-intel==2.18.0->tensorflow) (3.4.1)\n",
      "Requirement already satisfied: tensorboard-data-server<0.8.0,>=0.7.0 in c:\\users\\mlesa\\anaconda3\\lib\\site-packages (from tensorboard<2.19,>=2.18->tensorflow-intel==2.18.0->tensorflow) (0.7.2)\n",
      "Requirement already satisfied: werkzeug>=1.0.1 in c:\\users\\mlesa\\anaconda3\\lib\\site-packages (from tensorboard<2.19,>=2.18->tensorflow-intel==2.18.0->tensorflow) (3.0.3)\n",
      "Requirement already satisfied: MarkupSafe>=2.1.1 in c:\\users\\mlesa\\anaconda3\\lib\\site-packages (from werkzeug>=1.0.1->tensorboard<2.19,>=2.18->tensorflow-intel==2.18.0->tensorflow) (2.1.3)\n",
      "Requirement already satisfied: markdown-it-py>=2.2.0 in c:\\users\\mlesa\\anaconda3\\lib\\site-packages (from rich->keras>=3.5.0->tensorflow-intel==2.18.0->tensorflow) (2.2.0)\n",
      "Requirement already satisfied: pygments<3.0.0,>=2.13.0 in c:\\users\\mlesa\\anaconda3\\lib\\site-packages (from rich->keras>=3.5.0->tensorflow-intel==2.18.0->tensorflow) (2.15.1)\n",
      "Requirement already satisfied: mdurl~=0.1 in c:\\users\\mlesa\\anaconda3\\lib\\site-packages (from markdown-it-py>=2.2.0->rich->keras>=3.5.0->tensorflow-intel==2.18.0->tensorflow) (0.1.0)\n",
      "Note: you may need to restart the kernel to use updated packages.\n"
     ]
    }
   ],
   "source": [
    "    pip install tensorflow"
   ]
  },
  {
   "cell_type": "code",
   "execution_count": 118,
   "id": "356e4c08-852a-4513-8cc0-be477155eb1c",
   "metadata": {},
   "outputs": [],
   "source": [
    "import tensorflow as tf \n",
    "from tensorflow import keras\n",
    "from tensorflow.keras import layers"
   ]
  },
  {
   "cell_type": "code",
   "execution_count": null,
   "id": "45074b94-5728-4bb0-bd9f-57da958d69cc",
   "metadata": {},
   "outputs": [],
   "source": []
  },
  {
   "cell_type": "code",
   "execution_count": 416,
   "id": "1cec2b91-848d-4e22-9a67-72d18145426c",
   "metadata": {},
   "outputs": [
    {
     "name": "stdout",
     "output_type": "stream",
     "text": [
      "Epoch 1/50\n"
     ]
    },
    {
     "name": "stderr",
     "output_type": "stream",
     "text": [
      "C:\\Users\\mlesa\\anaconda3\\Lib\\site-packages\\keras\\src\\layers\\core\\dense.py:87: UserWarning: Do not pass an `input_shape`/`input_dim` argument to a layer. When using Sequential models, prefer using an `Input(shape)` object as the first layer in the model instead.\n",
      "  super().__init__(activity_regularizer=activity_regularizer, **kwargs)\n"
     ]
    },
    {
     "name": "stdout",
     "output_type": "stream",
     "text": [
      "\u001b[1m1055/1055\u001b[0m \u001b[32m━━━━━━━━━━━━━━━━━━━━\u001b[0m\u001b[37m\u001b[0m \u001b[1m7s\u001b[0m 5ms/step - accuracy: 0.7258 - loss: 84.5279 - val_accuracy: 0.7726 - val_loss: 94.4434\n",
      "Epoch 2/50\n",
      "\u001b[1m1055/1055\u001b[0m \u001b[32m━━━━━━━━━━━━━━━━━━━━\u001b[0m\u001b[37m\u001b[0m \u001b[1m11s\u001b[0m 6ms/step - accuracy: 0.7357 - loss: 37.5739 - val_accuracy: 0.7796 - val_loss: 33.3790\n",
      "Epoch 3/50\n",
      "\u001b[1m1055/1055\u001b[0m \u001b[32m━━━━━━━━━━━━━━━━━━━━\u001b[0m\u001b[37m\u001b[0m \u001b[1m6s\u001b[0m 2ms/step - accuracy: 0.7318 - loss: 21.3281 - val_accuracy: 0.8028 - val_loss: 21.1022\n",
      "Epoch 4/50\n",
      "\u001b[1m1055/1055\u001b[0m \u001b[32m━━━━━━━━━━━━━━━━━━━━\u001b[0m\u001b[37m\u001b[0m \u001b[1m3s\u001b[0m 3ms/step - accuracy: 0.7366 - loss: 20.3903 - val_accuracy: 0.7454 - val_loss: 8.9223\n",
      "Epoch 5/50\n",
      "\u001b[1m1055/1055\u001b[0m \u001b[32m━━━━━━━━━━━━━━━━━━━━\u001b[0m\u001b[37m\u001b[0m \u001b[1m5s\u001b[0m 3ms/step - accuracy: 0.7370 - loss: 10.4757 - val_accuracy: 0.6785 - val_loss: 3.6403\n",
      "Epoch 6/50\n",
      "\u001b[1m1055/1055\u001b[0m \u001b[32m━━━━━━━━━━━━━━━━━━━━\u001b[0m\u001b[37m\u001b[0m \u001b[1m5s\u001b[0m 2ms/step - accuracy: 0.7480 - loss: 6.2914 - val_accuracy: 0.7827 - val_loss: 1.7435\n",
      "Epoch 7/50\n",
      "\u001b[1m1055/1055\u001b[0m \u001b[32m━━━━━━━━━━━━━━━━━━━━\u001b[0m\u001b[37m\u001b[0m \u001b[1m2s\u001b[0m 2ms/step - accuracy: 0.7420 - loss: 4.7579 - val_accuracy: 0.4744 - val_loss: 3.4989\n",
      "Epoch 8/50\n",
      "\u001b[1m1055/1055\u001b[0m \u001b[32m━━━━━━━━━━━━━━━━━━━━\u001b[0m\u001b[37m\u001b[0m \u001b[1m3s\u001b[0m 3ms/step - accuracy: 0.7348 - loss: 3.0524 - val_accuracy: 0.8100 - val_loss: 1.7192\n",
      "Epoch 9/50\n",
      "\u001b[1m1055/1055\u001b[0m \u001b[32m━━━━━━━━━━━━━━━━━━━━\u001b[0m\u001b[37m\u001b[0m \u001b[1m5s\u001b[0m 3ms/step - accuracy: 0.7521 - loss: 1.5921 - val_accuracy: 0.6889 - val_loss: 0.5852\n",
      "Epoch 10/50\n",
      "\u001b[1m1055/1055\u001b[0m \u001b[32m━━━━━━━━━━━━━━━━━━━━\u001b[0m\u001b[37m\u001b[0m \u001b[1m6s\u001b[0m 3ms/step - accuracy: 0.7518 - loss: 0.5454 - val_accuracy: 0.7727 - val_loss: 0.4894\n",
      "Epoch 11/50\n",
      "\u001b[1m1055/1055\u001b[0m \u001b[32m━━━━━━━━━━━━━━━━━━━━\u001b[0m\u001b[37m\u001b[0m \u001b[1m5s\u001b[0m 4ms/step - accuracy: 0.7747 - loss: 0.4912 - val_accuracy: 0.7723 - val_loss: 0.4814\n",
      "Epoch 12/50\n",
      "\u001b[1m1055/1055\u001b[0m \u001b[32m━━━━━━━━━━━━━━━━━━━━\u001b[0m\u001b[37m\u001b[0m \u001b[1m6s\u001b[0m 5ms/step - accuracy: 0.7802 - loss: 0.4765 - val_accuracy: 0.7723 - val_loss: 0.5105\n",
      "Epoch 13/50\n",
      "\u001b[1m1055/1055\u001b[0m \u001b[32m━━━━━━━━━━━━━━━━━━━━\u001b[0m\u001b[37m\u001b[0m \u001b[1m4s\u001b[0m 3ms/step - accuracy: 0.7828 - loss: 0.4887 - val_accuracy: 0.7723 - val_loss: 0.5377\n",
      "Epoch 14/50\n",
      "\u001b[1m1055/1055\u001b[0m \u001b[32m━━━━━━━━━━━━━━━━━━━━\u001b[0m\u001b[37m\u001b[0m \u001b[1m4s\u001b[0m 2ms/step - accuracy: 0.7774 - loss: 0.5326 - val_accuracy: 0.7723 - val_loss: 0.5368\n",
      "Epoch 15/50\n",
      "\u001b[1m1055/1055\u001b[0m \u001b[32m━━━━━━━━━━━━━━━━━━━━\u001b[0m\u001b[37m\u001b[0m \u001b[1m2s\u001b[0m 2ms/step - accuracy: 0.7819 - loss: 0.5246 - val_accuracy: 0.7723 - val_loss: 0.5365\n",
      "Epoch 16/50\n",
      "\u001b[1m1055/1055\u001b[0m \u001b[32m━━━━━━━━━━━━━━━━━━━━\u001b[0m\u001b[37m\u001b[0m \u001b[1m2s\u001b[0m 2ms/step - accuracy: 0.7780 - loss: 0.5295 - val_accuracy: 0.7723 - val_loss: 0.5368\n",
      "Epoch 17/50\n",
      "\u001b[1m1055/1055\u001b[0m \u001b[32m━━━━━━━━━━━━━━━━━━━━\u001b[0m\u001b[37m\u001b[0m \u001b[1m3s\u001b[0m 2ms/step - accuracy: 0.7825 - loss: 0.5237 - val_accuracy: 0.7723 - val_loss: 0.5365\n",
      "Epoch 18/50\n",
      "\u001b[1m1055/1055\u001b[0m \u001b[32m━━━━━━━━━━━━━━━━━━━━\u001b[0m\u001b[37m\u001b[0m \u001b[1m5s\u001b[0m 4ms/step - accuracy: 0.7832 - loss: 0.5229 - val_accuracy: 0.7723 - val_loss: 0.5366\n",
      "Epoch 19/50\n",
      "\u001b[1m1055/1055\u001b[0m \u001b[32m━━━━━━━━━━━━━━━━━━━━\u001b[0m\u001b[37m\u001b[0m \u001b[1m4s\u001b[0m 3ms/step - accuracy: 0.7771 - loss: 0.5306 - val_accuracy: 0.7723 - val_loss: 0.5370\n",
      "Epoch 20/50\n",
      "\u001b[1m1055/1055\u001b[0m \u001b[32m━━━━━━━━━━━━━━━━━━━━\u001b[0m\u001b[37m\u001b[0m \u001b[1m4s\u001b[0m 2ms/step - accuracy: 0.7803 - loss: 0.5266 - val_accuracy: 0.7723 - val_loss: 0.5366\n",
      "Epoch 21/50\n",
      "\u001b[1m1055/1055\u001b[0m \u001b[32m━━━━━━━━━━━━━━━━━━━━\u001b[0m\u001b[37m\u001b[0m \u001b[1m3s\u001b[0m 3ms/step - accuracy: 0.7796 - loss: 0.5274 - val_accuracy: 0.7723 - val_loss: 0.5370\n",
      "Epoch 22/50\n",
      "\u001b[1m1055/1055\u001b[0m \u001b[32m━━━━━━━━━━━━━━━━━━━━\u001b[0m\u001b[37m\u001b[0m \u001b[1m5s\u001b[0m 2ms/step - accuracy: 0.7821 - loss: 0.5242 - val_accuracy: 0.7723 - val_loss: 0.5367\n",
      "Epoch 23/50\n",
      "\u001b[1m1055/1055\u001b[0m \u001b[32m━━━━━━━━━━━━━━━━━━━━\u001b[0m\u001b[37m\u001b[0m \u001b[1m2s\u001b[0m 2ms/step - accuracy: 0.7774 - loss: 0.5302 - val_accuracy: 0.7723 - val_loss: 0.5369\n",
      "Epoch 24/50\n",
      "\u001b[1m1055/1055\u001b[0m \u001b[32m━━━━━━━━━━━━━━━━━━━━\u001b[0m\u001b[37m\u001b[0m \u001b[1m2s\u001b[0m 2ms/step - accuracy: 0.7786 - loss: 0.5288 - val_accuracy: 0.7723 - val_loss: 0.5366\n",
      "Epoch 25/50\n",
      "\u001b[1m1055/1055\u001b[0m \u001b[32m━━━━━━━━━━━━━━━━━━━━\u001b[0m\u001b[37m\u001b[0m \u001b[1m2s\u001b[0m 2ms/step - accuracy: 0.7811 - loss: 0.5256 - val_accuracy: 0.7723 - val_loss: 0.5366\n",
      "Epoch 26/50\n",
      "\u001b[1m1055/1055\u001b[0m \u001b[32m━━━━━━━━━━━━━━━━━━━━\u001b[0m\u001b[37m\u001b[0m \u001b[1m3s\u001b[0m 3ms/step - accuracy: 0.7780 - loss: 0.5294 - val_accuracy: 0.7723 - val_loss: 0.5365\n",
      "Epoch 27/50\n",
      "\u001b[1m1055/1055\u001b[0m \u001b[32m━━━━━━━━━━━━━━━━━━━━\u001b[0m\u001b[37m\u001b[0m \u001b[1m5s\u001b[0m 2ms/step - accuracy: 0.7770 - loss: 0.5308 - val_accuracy: 0.7723 - val_loss: 0.5374\n",
      "Epoch 28/50\n",
      "\u001b[1m1055/1055\u001b[0m \u001b[32m━━━━━━━━━━━━━━━━━━━━\u001b[0m\u001b[37m\u001b[0m \u001b[1m2s\u001b[0m 2ms/step - accuracy: 0.7767 - loss: 0.5312 - val_accuracy: 0.7723 - val_loss: 0.5372\n",
      "Epoch 29/50\n",
      "\u001b[1m1055/1055\u001b[0m \u001b[32m━━━━━━━━━━━━━━━━━━━━\u001b[0m\u001b[37m\u001b[0m \u001b[1m2s\u001b[0m 2ms/step - accuracy: 0.7794 - loss: 0.5278 - val_accuracy: 0.7723 - val_loss: 0.5365\n",
      "Epoch 30/50\n",
      "\u001b[1m1055/1055\u001b[0m \u001b[32m━━━━━━━━━━━━━━━━━━━━\u001b[0m\u001b[37m\u001b[0m \u001b[1m3s\u001b[0m 2ms/step - accuracy: 0.7799 - loss: 0.5272 - val_accuracy: 0.7723 - val_loss: 0.5368\n",
      "Epoch 31/50\n",
      "\u001b[1m1055/1055\u001b[0m \u001b[32m━━━━━━━━━━━━━━━━━━━━\u001b[0m\u001b[37m\u001b[0m \u001b[1m5s\u001b[0m 4ms/step - accuracy: 0.7741 - loss: 0.5344 - val_accuracy: 0.7723 - val_loss: 0.5368\n",
      "Epoch 32/50\n",
      "\u001b[1m1055/1055\u001b[0m \u001b[32m━━━━━━━━━━━━━━━━━━━━\u001b[0m\u001b[37m\u001b[0m \u001b[1m4s\u001b[0m 3ms/step - accuracy: 0.7783 - loss: 0.5292 - val_accuracy: 0.7723 - val_loss: 0.5367\n",
      "Epoch 33/50\n",
      "\u001b[1m1055/1055\u001b[0m \u001b[32m━━━━━━━━━━━━━━━━━━━━\u001b[0m\u001b[37m\u001b[0m \u001b[1m4s\u001b[0m 4ms/step - accuracy: 0.7781 - loss: 0.5294 - val_accuracy: 0.7723 - val_loss: 0.5367\n",
      "Epoch 34/50\n",
      "\u001b[1m1055/1055\u001b[0m \u001b[32m━━━━━━━━━━━━━━━━━━━━\u001b[0m\u001b[37m\u001b[0m \u001b[1m5s\u001b[0m 4ms/step - accuracy: 0.7776 - loss: 0.5300 - val_accuracy: 0.7723 - val_loss: 0.5376\n",
      "Epoch 35/50\n",
      "\u001b[1m1055/1055\u001b[0m \u001b[32m━━━━━━━━━━━━━━━━━━━━\u001b[0m\u001b[37m\u001b[0m \u001b[1m4s\u001b[0m 3ms/step - accuracy: 0.7767 - loss: 0.5314 - val_accuracy: 0.7723 - val_loss: 0.5367\n",
      "Epoch 36/50\n",
      "\u001b[1m1055/1055\u001b[0m \u001b[32m━━━━━━━━━━━━━━━━━━━━\u001b[0m\u001b[37m\u001b[0m \u001b[1m6s\u001b[0m 4ms/step - accuracy: 0.7830 - loss: 0.5233 - val_accuracy: 0.7723 - val_loss: 0.5365\n",
      "Epoch 37/50\n",
      "\u001b[1m1055/1055\u001b[0m \u001b[32m━━━━━━━━━━━━━━━━━━━━\u001b[0m\u001b[37m\u001b[0m \u001b[1m6s\u001b[0m 5ms/step - accuracy: 0.7776 - loss: 0.5300 - val_accuracy: 0.7723 - val_loss: 0.5368\n",
      "Epoch 38/50\n",
      "\u001b[1m1055/1055\u001b[0m \u001b[32m━━━━━━━━━━━━━━━━━━━━\u001b[0m\u001b[37m\u001b[0m \u001b[1m9s\u001b[0m 4ms/step - accuracy: 0.7775 - loss: 0.5301 - val_accuracy: 0.7723 - val_loss: 0.5367\n",
      "Epoch 39/50\n",
      "\u001b[1m1055/1055\u001b[0m \u001b[32m━━━━━━━━━━━━━━━━━━━━\u001b[0m\u001b[37m\u001b[0m \u001b[1m6s\u001b[0m 5ms/step - accuracy: 0.7814 - loss: 0.5251 - val_accuracy: 0.7723 - val_loss: 0.5367\n",
      "Epoch 40/50\n",
      "\u001b[1m1055/1055\u001b[0m \u001b[32m━━━━━━━━━━━━━━━━━━━━\u001b[0m\u001b[37m\u001b[0m \u001b[1m10s\u001b[0m 5ms/step - accuracy: 0.7757 - loss: 0.5323 - val_accuracy: 0.7723 - val_loss: 0.5367\n",
      "Epoch 41/50\n",
      "\u001b[1m1055/1055\u001b[0m \u001b[32m━━━━━━━━━━━━━━━━━━━━\u001b[0m\u001b[37m\u001b[0m \u001b[1m6s\u001b[0m 5ms/step - accuracy: 0.7800 - loss: 0.5270 - val_accuracy: 0.7723 - val_loss: 0.5366\n",
      "Epoch 42/50\n",
      "\u001b[1m1055/1055\u001b[0m \u001b[32m━━━━━━━━━━━━━━━━━━━━\u001b[0m\u001b[37m\u001b[0m \u001b[1m4s\u001b[0m 4ms/step - accuracy: 0.7774 - loss: 0.5303 - val_accuracy: 0.7723 - val_loss: 0.5368\n",
      "Epoch 43/50\n",
      "\u001b[1m1055/1055\u001b[0m \u001b[32m━━━━━━━━━━━━━━━━━━━━\u001b[0m\u001b[37m\u001b[0m \u001b[1m5s\u001b[0m 4ms/step - accuracy: 0.7802 - loss: 0.5267 - val_accuracy: 0.7723 - val_loss: 0.5367\n",
      "Epoch 44/50\n",
      "\u001b[1m1055/1055\u001b[0m \u001b[32m━━━━━━━━━━━━━━━━━━━━\u001b[0m\u001b[37m\u001b[0m \u001b[1m3s\u001b[0m 2ms/step - accuracy: 0.7810 - loss: 0.5257 - val_accuracy: 0.7723 - val_loss: 0.5366\n",
      "Epoch 45/50\n",
      "\u001b[1m1055/1055\u001b[0m \u001b[32m━━━━━━━━━━━━━━━━━━━━\u001b[0m\u001b[37m\u001b[0m \u001b[1m7s\u001b[0m 6ms/step - accuracy: 0.7791 - loss: 0.5281 - val_accuracy: 0.7723 - val_loss: 0.5367\n",
      "Epoch 46/50\n",
      "\u001b[1m1055/1055\u001b[0m \u001b[32m━━━━━━━━━━━━━━━━━━━━\u001b[0m\u001b[37m\u001b[0m \u001b[1m10s\u001b[0m 6ms/step - accuracy: 0.7811 - loss: 0.5256 - val_accuracy: 0.7723 - val_loss: 0.5365\n",
      "Epoch 47/50\n",
      "\u001b[1m1055/1055\u001b[0m \u001b[32m━━━━━━━━━━━━━━━━━━━━\u001b[0m\u001b[37m\u001b[0m \u001b[1m8s\u001b[0m 4ms/step - accuracy: 0.7795 - loss: 0.5277 - val_accuracy: 0.7723 - val_loss: 0.5367\n",
      "Epoch 48/50\n",
      "\u001b[1m1055/1055\u001b[0m \u001b[32m━━━━━━━━━━━━━━━━━━━━\u001b[0m\u001b[37m\u001b[0m \u001b[1m7s\u001b[0m 5ms/step - accuracy: 0.7780 - loss: 0.5295 - val_accuracy: 0.7723 - val_loss: 0.5365\n",
      "Epoch 49/50\n",
      "\u001b[1m1055/1055\u001b[0m \u001b[32m━━━━━━━━━━━━━━━━━━━━\u001b[0m\u001b[37m\u001b[0m \u001b[1m9s\u001b[0m 4ms/step - accuracy: 0.7819 - loss: 0.5247 - val_accuracy: 0.7723 - val_loss: 0.5367\n",
      "Epoch 50/50\n",
      "\u001b[1m1055/1055\u001b[0m \u001b[32m━━━━━━━━━━━━━━━━━━━━\u001b[0m\u001b[37m\u001b[0m \u001b[1m7s\u001b[0m 6ms/step - accuracy: 0.7760 - loss: 0.5321 - val_accuracy: 0.7723 - val_loss: 0.5376\n"
     ]
    }
   ],
   "source": [
    "# Define the model\n",
    "model = keras.Sequential([\n",
    "    layers.Dense(64, activation=\"relu\", input_shape=(x_train.shape[1],)),\n",
    "    layers.Dense(32, activation=\"relu\"),\n",
    "    layers.Dense(16, activation=\"relu\"),\n",
    "    layers.Dense(1, activation=\"sigmoid\")  # Output layer for binary classification\n",
    "])\n",
    "\n",
    "# Compile the model\n",
    "model.compile(optimizer=\"adam\", loss=\"binary_crossentropy\", metrics=[\"accuracy\"])\n",
    "\n",
    "# Train the model\n",
    "history = model.fit(x_train, y_train, epochs=50, batch_size=32, validation_data=(x_test, y_test))\n"
   ]
  },
  {
   "cell_type": "code",
   "execution_count": 162,
   "id": "c6abf5ff-e1a0-4c7c-a734-c1523a404ad4",
   "metadata": {},
   "outputs": [
    {
     "name": "stdout",
     "output_type": "stream",
     "text": [
      "\u001b[1m352/352\u001b[0m \u001b[32m━━━━━━━━━━━━━━━━━━━━\u001b[0m\u001b[37m\u001b[0m \u001b[1m0s\u001b[0m 467us/step - accuracy: 0.8582 - loss: 0.3772\n",
      "Test Accuracy: 0.8589\n"
     ]
    }
   ],
   "source": [
    "\n",
    "loss, accuracy = model.evaluate(x_test, y_test)\n",
    "print(f\"Test Accuracy: {accuracy:.4f}\")\n"
   ]
  },
  {
   "cell_type": "code",
   "execution_count": 164,
   "id": "fa32a945-8cad-4451-9cdc-892576327e42",
   "metadata": {},
   "outputs": [
    {
     "name": "stdout",
     "output_type": "stream",
     "text": [
      "\u001b[1m352/352\u001b[0m \u001b[32m━━━━━━━━━━━━━━━━━━━━\u001b[0m\u001b[37m\u001b[0m \u001b[1m0s\u001b[0m 285us/step\n",
      "Predicted Class: 1\n"
     ]
    }
   ],
   "source": [
    "sample_input = x_test  # Take one example from test data\n",
    "prediction = model.predict(sample_input)\n",
    "predicted_class = (prediction > 0.5).astype(int)\n",
    "print(f\"Predicted Class: {predicted_class[0][0]}\")"
   ]
  },
  {
   "cell_type": "code",
   "execution_count": 417,
   "id": "b0027e29-a7b1-4820-b4ab-d2246f0b8219",
   "metadata": {},
   "outputs": [
    {
     "name": "stdout",
     "output_type": "stream",
     "text": [
      "\u001b[1m1055/1055\u001b[0m \u001b[32m━━━━━━━━━━━━━━━━━━━━\u001b[0m\u001b[37m\u001b[0m \u001b[1m1s\u001b[0m 963us/step\n",
      "\u001b[1m352/352\u001b[0m \u001b[32m━━━━━━━━━━━━━━━━━━━━\u001b[0m\u001b[37m\u001b[0m \u001b[1m0s\u001b[0m 1ms/step\n"
     ]
    }
   ],
   "source": [
    "ytrain5 = (model.predict(x_train) > 0.5).astype(int)\n",
    "y_pred1 = (model.predict(x_test) > 0.5).astype(int)"
   ]
  },
  {
   "cell_type": "code",
   "execution_count": 472,
   "id": "8bb223aa-275e-4463-8de6-88bcfccf2d75",
   "metadata": {},
   "outputs": [],
   "source": [
    "accuracy = accuracy_score(y_pred1, y_test)\n",
    "accuracyt2 = accuracy_score(y_train, ytrain5)"
   ]
  },
  {
   "cell_type": "code",
   "execution_count": 474,
   "id": "55ca8b55-32ec-422e-ad98-e70731fba00b",
   "metadata": {},
   "outputs": [
    {
     "data": {
      "text/plain": [
       "0.7722666666666667"
      ]
     },
     "execution_count": 474,
     "metadata": {},
     "output_type": "execute_result"
    }
   ],
   "source": [
    "accuracy\n"
   ]
  },
  {
   "cell_type": "code",
   "execution_count": 476,
   "id": "d2756741-ea80-4e28-bb1f-57dcb79665b6",
   "metadata": {},
   "outputs": [
    {
     "data": {
      "text/plain": [
       "0.22773333333333334"
      ]
     },
     "execution_count": 476,
     "metadata": {},
     "output_type": "execute_result"
    }
   ],
   "source": [
    "error = 1-accuracy\n",
    "error"
   ]
  },
  {
   "cell_type": "code",
   "execution_count": 478,
   "id": "ab6229b5-07c0-4614-89f6-ed270bab6375",
   "metadata": {},
   "outputs": [
    {
     "data": {
      "text/plain": [
       "0.22038518518518524"
      ]
     },
     "execution_count": 478,
     "metadata": {},
     "output_type": "execute_result"
    }
   ],
   "source": [
    "errort = 1-accuracyt2\n",
    "errort"
   ]
  },
  {
   "cell_type": "code",
   "execution_count": 433,
   "id": "95f9a51c-6c68-4815-8ab3-96d7956fd08e",
   "metadata": {},
   "outputs": [
    {
     "data": {
      "text/plain": [
       "0.7722666666666667"
      ]
     },
     "execution_count": 433,
     "metadata": {},
     "output_type": "execute_result"
    }
   ],
   "source": [
    "accuracy"
   ]
  },
  {
   "cell_type": "code",
   "execution_count": 172,
   "id": "680f6a97-09c6-4ed6-981d-67cc76ac0a5b",
   "metadata": {},
   "outputs": [
    {
     "name": "stdout",
     "output_type": "stream",
     "text": [
      "Training MSE: 0.22773333333333334\n",
      "Testing MSE: 0.14106666666666667\n"
     ]
    }
   ],
   "source": [
    "train_mse1 = mean_squared_error(y_train, ytrain5)\n",
    "print(f\"Training MSE: {Test_mse1}\")\n",
    "Test_mse1 = mean_squared_error(y_test, y_pred1)\n",
    "print(f\"Testing MSE: {Test_mse1}\")\n"
   ]
  },
  {
   "cell_type": "code",
   "execution_count": 174,
   "id": "045833c6-692a-4f02-ad60-311e425664f1",
   "metadata": {},
   "outputs": [],
   "source": [
    "conf = confusion_matrix(y_pred1, y_test) "
   ]
  },
  {
   "cell_type": "code",
   "execution_count": 176,
   "id": "a7d774df-dca1-4a19-b833-0a3fb7f4b547",
   "metadata": {},
   "outputs": [],
   "source": [
    "conf1 = confusion_matrix(y_pred1, y_test) "
   ]
  },
  {
   "cell_type": "code",
   "execution_count": 177,
   "id": "318bc3ad-8492-46ae-a41a-3b9c0f8bf6d8",
   "metadata": {},
   "outputs": [
    {
     "data": {
      "text/plain": [
       "<Figure size 800x600 with 0 Axes>"
      ]
     },
     "metadata": {},
     "output_type": "display_data"
    },
    {
     "data": {
      "image/png": "[encoded data removed]",
      "text/plain": [
       "<Figure size 640x480 with 2 Axes>"
      ]
     },
     "metadata": {},
     "output_type": "display_data"
    }
   ],
   "source": [
    "disp = ConfusionMatrixDisplay(conf, display_labels = [0,1])\n",
    "plt.figure(figsize = (8,6))\n",
    "disp.plot(cmap = plt.cm.Reds)\n",
    "\n",
    "plt.show()"
   ]
  },
  {
   "cell_type": "code",
   "execution_count": 131,
   "id": "dd7539e9-7291-4e89-912b-646a6703ea68",
   "metadata": {},
   "outputs": [
    {
     "data": {
      "text/plain": [
       "<Figure size 800x600 with 0 Axes>"
      ]
     },
     "metadata": {},
     "output_type": "display_data"
    },
    {
     "data": {
      "image/png": "[encoded data removed]",
      "text/plain": [
       "<Figure size 640x480 with 2 Axes>"
      ]
     },
     "metadata": {},
     "output_type": "display_data"
    }
   ],
   "source": [
    "disp = ConfusionMatrixDisplay(conf1, display_labels = [0,1])\n",
    "plt.figure(figsize = (8,6))\n",
    "disp.plot(cmap = plt.cm.Reds)\n",
    "plt.show()"
   ]
  },
  {
   "cell_type": "code",
   "execution_count": 435,
   "id": "417c143b-3202-40d2-aff0-27e640a6bf28",
   "metadata": {},
   "outputs": [
    {
     "name": "stdout",
     "output_type": "stream",
     "text": [
      "Epoch 1/100\n"
     ]
    },
    {
     "name": "stderr",
     "output_type": "stream",
     "text": [
      "C:\\Users\\mlesa\\anaconda3\\Lib\\site-packages\\keras\\src\\layers\\core\\dense.py:87: UserWarning: Do not pass an `input_shape`/`input_dim` argument to a layer. When using Sequential models, prefer using an `Input(shape)` object as the first layer in the model instead.\n",
      "  super().__init__(activity_regularizer=activity_regularizer, **kwargs)\n"
     ]
    },
    {
     "name": "stdout",
     "output_type": "stream",
     "text": [
      "\u001b[1m528/528\u001b[0m \u001b[32m━━━━━━━━━━━━━━━━━━━━\u001b[0m\u001b[37m\u001b[0m \u001b[1m2s\u001b[0m 2ms/step - accuracy: 0.7132 - loss: 56.7209 - val_accuracy: 0.7920 - val_loss: 7.9898\n",
      "Epoch 2/100\n",
      "\u001b[1m528/528\u001b[0m \u001b[32m━━━━━━━━━━━━━━━━━━━━\u001b[0m\u001b[37m\u001b[0m \u001b[1m1s\u001b[0m 2ms/step - accuracy: 0.7307 - loss: 20.1678 - val_accuracy: 0.7532 - val_loss: 15.6439\n",
      "Epoch 3/100\n",
      "\u001b[1m528/528\u001b[0m \u001b[32m━━━━━━━━━━━━━━━━━━━━\u001b[0m\u001b[37m\u001b[0m \u001b[1m2s\u001b[0m 3ms/step - accuracy: 0.7257 - loss: 17.1088 - val_accuracy: 0.7722 - val_loss: 26.2628\n",
      "Epoch 4/100\n",
      "\u001b[1m528/528\u001b[0m \u001b[32m━━━━━━━━━━━━━━━━━━━━\u001b[0m\u001b[37m\u001b[0m \u001b[1m2s\u001b[0m 2ms/step - accuracy: 0.7388 - loss: 16.2932 - val_accuracy: 0.8197 - val_loss: 12.1393\n",
      "Epoch 5/100\n",
      "\u001b[1m528/528\u001b[0m \u001b[32m━━━━━━━━━━━━━━━━━━━━\u001b[0m\u001b[37m\u001b[0m \u001b[1m1s\u001b[0m 2ms/step - accuracy: 0.7370 - loss: 12.7370 - val_accuracy: 0.7811 - val_loss: 6.7259\n",
      "Epoch 6/100\n",
      "\u001b[1m528/528\u001b[0m \u001b[32m━━━━━━━━━━━━━━━━━━━━\u001b[0m\u001b[37m\u001b[0m \u001b[1m1s\u001b[0m 2ms/step - accuracy: 0.7441 - loss: 11.3461 - val_accuracy: 0.7723 - val_loss: 46.1296\n",
      "Epoch 7/100\n",
      "\u001b[1m528/528\u001b[0m \u001b[32m━━━━━━━━━━━━━━━━━━━━\u001b[0m\u001b[37m\u001b[0m \u001b[1m1s\u001b[0m 2ms/step - accuracy: 0.7418 - loss: 14.8640 - val_accuracy: 0.7762 - val_loss: 7.6255\n",
      "Epoch 8/100\n",
      "\u001b[1m528/528\u001b[0m \u001b[32m━━━━━━━━━━━━━━━━━━━━\u001b[0m\u001b[37m\u001b[0m \u001b[1m1s\u001b[0m 2ms/step - accuracy: 0.7294 - loss: 11.4684 - val_accuracy: 0.8300 - val_loss: 3.5431\n",
      "Epoch 9/100\n",
      "\u001b[1m528/528\u001b[0m \u001b[32m━━━━━━━━━━━━━━━━━━━━\u001b[0m\u001b[37m\u001b[0m \u001b[1m2s\u001b[0m 2ms/step - accuracy: 0.7312 - loss: 11.6194 - val_accuracy: 0.7805 - val_loss: 12.4102\n",
      "Epoch 10/100\n",
      "\u001b[1m528/528\u001b[0m \u001b[32m━━━━━━━━━━━━━━━━━━━━\u001b[0m\u001b[37m\u001b[0m \u001b[1m1s\u001b[0m 2ms/step - accuracy: 0.7346 - loss: 9.4134 - val_accuracy: 0.7764 - val_loss: 8.2478\n",
      "Epoch 11/100\n",
      "\u001b[1m528/528\u001b[0m \u001b[32m━━━━━━━━━━━━━━━━━━━━\u001b[0m\u001b[37m\u001b[0m \u001b[1m2s\u001b[0m 3ms/step - accuracy: 0.7391 - loss: 5.2346 - val_accuracy: 0.8229 - val_loss: 2.3788\n",
      "Epoch 12/100\n",
      "\u001b[1m528/528\u001b[0m \u001b[32m━━━━━━━━━━━━━━━━━━━━\u001b[0m\u001b[37m\u001b[0m \u001b[1m3s\u001b[0m 3ms/step - accuracy: 0.7443 - loss: 4.1742 - val_accuracy: 0.4706 - val_loss: 2.1363\n",
      "Epoch 13/100\n",
      "\u001b[1m528/528\u001b[0m \u001b[32m━━━━━━━━━━━━━━━━━━━━\u001b[0m\u001b[37m\u001b[0m \u001b[1m2s\u001b[0m 3ms/step - accuracy: 0.7490 - loss: 1.8855 - val_accuracy: 0.8181 - val_loss: 2.0144\n",
      "Epoch 14/100\n",
      "\u001b[1m528/528\u001b[0m \u001b[32m━━━━━━━━━━━━━━━━━━━━\u001b[0m\u001b[37m\u001b[0m \u001b[1m3s\u001b[0m 3ms/step - accuracy: 0.7646 - loss: 1.4623 - val_accuracy: 0.7896 - val_loss: 0.8944\n",
      "Epoch 15/100\n",
      "\u001b[1m528/528\u001b[0m \u001b[32m━━━━━━━━━━━━━━━━━━━━\u001b[0m\u001b[37m\u001b[0m \u001b[1m3s\u001b[0m 4ms/step - accuracy: 0.7806 - loss: 0.9488 - val_accuracy: 0.7890 - val_loss: 1.1332\n",
      "Epoch 16/100\n",
      "\u001b[1m528/528\u001b[0m \u001b[32m━━━━━━━━━━━━━━━━━━━━\u001b[0m\u001b[37m\u001b[0m \u001b[1m2s\u001b[0m 3ms/step - accuracy: 0.7731 - loss: 0.8769 - val_accuracy: 0.6721 - val_loss: 0.6607\n",
      "Epoch 17/100\n",
      "\u001b[1m528/528\u001b[0m \u001b[32m━━━━━━━━━━━━━━━━━━━━\u001b[0m\u001b[37m\u001b[0m \u001b[1m3s\u001b[0m 3ms/step - accuracy: 0.7837 - loss: 0.6892 - val_accuracy: 0.8018 - val_loss: 0.6536\n",
      "Epoch 18/100\n",
      "\u001b[1m528/528\u001b[0m \u001b[32m━━━━━━━━━━━━━━━━━━━━\u001b[0m\u001b[37m\u001b[0m \u001b[1m1s\u001b[0m 2ms/step - accuracy: 0.7856 - loss: 0.5862 - val_accuracy: 0.8264 - val_loss: 0.4953\n",
      "Epoch 19/100\n",
      "\u001b[1m528/528\u001b[0m \u001b[32m━━━━━━━━━━━━━━━━━━━━\u001b[0m\u001b[37m\u001b[0m \u001b[1m1s\u001b[0m 2ms/step - accuracy: 0.7878 - loss: 0.8502 - val_accuracy: 0.7963 - val_loss: 0.5464\n",
      "Epoch 20/100\n",
      "\u001b[1m528/528\u001b[0m \u001b[32m━━━━━━━━━━━━━━━━━━━━\u001b[0m\u001b[37m\u001b[0m \u001b[1m1s\u001b[0m 2ms/step - accuracy: 0.8083 - loss: 0.4938 - val_accuracy: 0.8013 - val_loss: 0.4779\n",
      "Epoch 21/100\n",
      "\u001b[1m528/528\u001b[0m \u001b[32m━━━━━━━━━━━━━━━━━━━━\u001b[0m\u001b[37m\u001b[0m \u001b[1m2s\u001b[0m 3ms/step - accuracy: 0.8080 - loss: 0.4853 - val_accuracy: 0.7982 - val_loss: 0.4950\n",
      "Epoch 22/100\n",
      "\u001b[1m528/528\u001b[0m \u001b[32m━━━━━━━━━━━━━━━━━━━━\u001b[0m\u001b[37m\u001b[0m \u001b[1m2s\u001b[0m 3ms/step - accuracy: 0.8125 - loss: 0.4644 - val_accuracy: 0.8214 - val_loss: 0.4657\n",
      "Epoch 23/100\n",
      "\u001b[1m528/528\u001b[0m \u001b[32m━━━━━━━━━━━━━━━━━━━━\u001b[0m\u001b[37m\u001b[0m \u001b[1m2s\u001b[0m 2ms/step - accuracy: 0.8187 - loss: 0.4624 - val_accuracy: 0.8013 - val_loss: 0.5135\n",
      "Epoch 24/100\n",
      "\u001b[1m528/528\u001b[0m \u001b[32m━━━━━━━━━━━━━━━━━━━━\u001b[0m\u001b[37m\u001b[0m \u001b[1m1s\u001b[0m 2ms/step - accuracy: 0.7965 - loss: 0.4972 - val_accuracy: 0.8168 - val_loss: 0.4630\n",
      "Epoch 25/100\n",
      "\u001b[1m528/528\u001b[0m \u001b[32m━━━━━━━━━━━━━━━━━━━━\u001b[0m\u001b[37m\u001b[0m \u001b[1m2s\u001b[0m 3ms/step - accuracy: 0.7774 - loss: 0.4950 - val_accuracy: 0.7724 - val_loss: 0.5253\n",
      "Epoch 26/100\n",
      "\u001b[1m528/528\u001b[0m \u001b[32m━━━━━━━━━━━━━━━━━━━━\u001b[0m\u001b[37m\u001b[0m \u001b[1m3s\u001b[0m 3ms/step - accuracy: 0.7852 - loss: 0.5400 - val_accuracy: 0.7723 - val_loss: 0.5366\n",
      "Epoch 27/100\n",
      "\u001b[1m528/528\u001b[0m \u001b[32m━━━━━━━━━━━━━━━━━━━━\u001b[0m\u001b[37m\u001b[0m \u001b[1m1s\u001b[0m 2ms/step - accuracy: 0.7779 - loss: 0.5295 - val_accuracy: 0.7723 - val_loss: 0.5368\n",
      "Epoch 28/100\n",
      "\u001b[1m528/528\u001b[0m \u001b[32m━━━━━━━━━━━━━━━━━━━━\u001b[0m\u001b[37m\u001b[0m \u001b[1m2s\u001b[0m 3ms/step - accuracy: 0.7817 - loss: 0.5248 - val_accuracy: 0.7723 - val_loss: 0.5367\n",
      "Epoch 29/100\n",
      "\u001b[1m528/528\u001b[0m \u001b[32m━━━━━━━━━━━━━━━━━━━━\u001b[0m\u001b[37m\u001b[0m \u001b[1m3s\u001b[0m 3ms/step - accuracy: 0.7790 - loss: 0.5282 - val_accuracy: 0.7723 - val_loss: 0.5366\n",
      "Epoch 30/100\n",
      "\u001b[1m528/528\u001b[0m \u001b[32m━━━━━━━━━━━━━━━━━━━━\u001b[0m\u001b[37m\u001b[0m \u001b[1m2s\u001b[0m 2ms/step - accuracy: 0.7785 - loss: 0.5288 - val_accuracy: 0.7723 - val_loss: 0.5366\n",
      "Epoch 31/100\n",
      "\u001b[1m528/528\u001b[0m \u001b[32m━━━━━━━━━━━━━━━━━━━━\u001b[0m\u001b[37m\u001b[0m \u001b[1m1s\u001b[0m 2ms/step - accuracy: 0.7752 - loss: 0.5329 - val_accuracy: 0.7723 - val_loss: 0.5368\n",
      "Epoch 32/100\n",
      "\u001b[1m528/528\u001b[0m \u001b[32m━━━━━━━━━━━━━━━━━━━━\u001b[0m\u001b[37m\u001b[0m \u001b[1m1s\u001b[0m 2ms/step - accuracy: 0.7814 - loss: 0.5252 - val_accuracy: 0.7723 - val_loss: 0.5366\n",
      "Epoch 33/100\n",
      "\u001b[1m528/528\u001b[0m \u001b[32m━━━━━━━━━━━━━━━━━━━━\u001b[0m\u001b[37m\u001b[0m \u001b[1m2s\u001b[0m 3ms/step - accuracy: 0.7826 - loss: 0.5237 - val_accuracy: 0.7723 - val_loss: 0.5366\n",
      "Epoch 34/100\n",
      "\u001b[1m528/528\u001b[0m \u001b[32m━━━━━━━━━━━━━━━━━━━━\u001b[0m\u001b[37m\u001b[0m \u001b[1m3s\u001b[0m 3ms/step - accuracy: 0.7800 - loss: 0.5270 - val_accuracy: 0.7723 - val_loss: 0.5367\n",
      "Epoch 35/100\n",
      "\u001b[1m528/528\u001b[0m \u001b[32m━━━━━━━━━━━━━━━━━━━━\u001b[0m\u001b[37m\u001b[0m \u001b[1m2s\u001b[0m 2ms/step - accuracy: 0.7785 - loss: 0.5288 - val_accuracy: 0.7723 - val_loss: 0.5367\n",
      "Epoch 36/100\n",
      "\u001b[1m528/528\u001b[0m \u001b[32m━━━━━━━━━━━━━━━━━━━━\u001b[0m\u001b[37m\u001b[0m \u001b[1m2s\u001b[0m 2ms/step - accuracy: 0.7820 - loss: 0.5244 - val_accuracy: 0.7723 - val_loss: 0.5368\n",
      "Epoch 37/100\n",
      "\u001b[1m528/528\u001b[0m \u001b[32m━━━━━━━━━━━━━━━━━━━━\u001b[0m\u001b[37m\u001b[0m \u001b[1m1s\u001b[0m 2ms/step - accuracy: 0.7792 - loss: 0.5280 - val_accuracy: 0.7723 - val_loss: 0.5366\n",
      "Epoch 38/100\n",
      "\u001b[1m528/528\u001b[0m \u001b[32m━━━━━━━━━━━━━━━━━━━━\u001b[0m\u001b[37m\u001b[0m \u001b[1m2s\u001b[0m 3ms/step - accuracy: 0.7820 - loss: 0.5244 - val_accuracy: 0.7723 - val_loss: 0.5366\n",
      "Epoch 39/100\n",
      "\u001b[1m528/528\u001b[0m \u001b[32m━━━━━━━━━━━━━━━━━━━━\u001b[0m\u001b[37m\u001b[0m \u001b[1m2s\u001b[0m 2ms/step - accuracy: 0.7849 - loss: 0.5207 - val_accuracy: 0.7723 - val_loss: 0.5365\n",
      "Epoch 40/100\n",
      "\u001b[1m528/528\u001b[0m \u001b[32m━━━━━━━━━━━━━━━━━━━━\u001b[0m\u001b[37m\u001b[0m \u001b[1m1s\u001b[0m 2ms/step - accuracy: 0.7783 - loss: 0.5291 - val_accuracy: 0.7723 - val_loss: 0.5368\n",
      "Epoch 41/100\n",
      "\u001b[1m528/528\u001b[0m \u001b[32m━━━━━━━━━━━━━━━━━━━━\u001b[0m\u001b[37m\u001b[0m \u001b[1m1s\u001b[0m 2ms/step - accuracy: 0.7773 - loss: 0.5304 - val_accuracy: 0.7723 - val_loss: 0.5367\n",
      "Epoch 42/100\n",
      "\u001b[1m528/528\u001b[0m \u001b[32m━━━━━━━━━━━━━━━━━━━━\u001b[0m\u001b[37m\u001b[0m \u001b[1m1s\u001b[0m 2ms/step - accuracy: 0.7818 - loss: 0.5247 - val_accuracy: 0.7723 - val_loss: 0.5367\n",
      "Epoch 43/100\n",
      "\u001b[1m528/528\u001b[0m \u001b[32m━━━━━━━━━━━━━━━━━━━━\u001b[0m\u001b[37m\u001b[0m \u001b[1m1s\u001b[0m 2ms/step - accuracy: 0.7792 - loss: 0.5280 - val_accuracy: 0.7723 - val_loss: 0.5367\n",
      "Epoch 44/100\n",
      "\u001b[1m528/528\u001b[0m \u001b[32m━━━━━━━━━━━━━━━━━━━━\u001b[0m\u001b[37m\u001b[0m \u001b[1m1s\u001b[0m 2ms/step - accuracy: 0.7791 - loss: 0.5281 - val_accuracy: 0.7723 - val_loss: 0.5366\n",
      "Epoch 45/100\n",
      "\u001b[1m528/528\u001b[0m \u001b[32m━━━━━━━━━━━━━━━━━━━━\u001b[0m\u001b[37m\u001b[0m \u001b[1m1s\u001b[0m 2ms/step - accuracy: 0.7778 - loss: 0.5297 - val_accuracy: 0.7723 - val_loss: 0.5369\n",
      "Epoch 46/100\n",
      "\u001b[1m528/528\u001b[0m \u001b[32m━━━━━━━━━━━━━━━━━━━━\u001b[0m\u001b[37m\u001b[0m \u001b[1m3s\u001b[0m 4ms/step - accuracy: 0.7790 - loss: 0.5283 - val_accuracy: 0.7723 - val_loss: 0.5369\n",
      "Epoch 47/100\n",
      "\u001b[1m528/528\u001b[0m \u001b[32m━━━━━━━━━━━━━━━━━━━━\u001b[0m\u001b[37m\u001b[0m \u001b[1m2s\u001b[0m 2ms/step - accuracy: 0.7788 - loss: 0.5285 - val_accuracy: 0.7723 - val_loss: 0.5369\n",
      "Epoch 48/100\n",
      "\u001b[1m528/528\u001b[0m \u001b[32m━━━━━━━━━━━━━━━━━━━━\u001b[0m\u001b[37m\u001b[0m \u001b[1m2s\u001b[0m 4ms/step - accuracy: 0.7781 - loss: 0.5294 - val_accuracy: 0.7723 - val_loss: 0.5367\n",
      "Epoch 49/100\n",
      "\u001b[1m528/528\u001b[0m \u001b[32m━━━━━━━━━━━━━━━━━━━━\u001b[0m\u001b[37m\u001b[0m \u001b[1m2s\u001b[0m 3ms/step - accuracy: 0.7811 - loss: 0.5256 - val_accuracy: 0.7723 - val_loss: 0.5367\n",
      "Epoch 50/100\n",
      "\u001b[1m528/528\u001b[0m \u001b[32m━━━━━━━━━━━━━━━━━━━━\u001b[0m\u001b[37m\u001b[0m \u001b[1m2s\u001b[0m 3ms/step - accuracy: 0.7768 - loss: 0.5310 - val_accuracy: 0.7723 - val_loss: 0.5366\n",
      "Epoch 51/100\n",
      "\u001b[1m528/528\u001b[0m \u001b[32m━━━━━━━━━━━━━━━━━━━━\u001b[0m\u001b[37m\u001b[0m \u001b[1m3s\u001b[0m 4ms/step - accuracy: 0.7794 - loss: 0.5277 - val_accuracy: 0.7723 - val_loss: 0.5367\n",
      "Epoch 52/100\n",
      "\u001b[1m528/528\u001b[0m \u001b[32m━━━━━━━━━━━━━━━━━━━━\u001b[0m\u001b[37m\u001b[0m \u001b[1m3s\u001b[0m 5ms/step - accuracy: 0.7834 - loss: 0.5226 - val_accuracy: 0.7723 - val_loss: 0.5366\n",
      "Epoch 53/100\n",
      "\u001b[1m528/528\u001b[0m \u001b[32m━━━━━━━━━━━━━━━━━━━━\u001b[0m\u001b[37m\u001b[0m \u001b[1m6s\u001b[0m 7ms/step - accuracy: 0.7840 - loss: 0.5219 - val_accuracy: 0.7723 - val_loss: 0.5365\n",
      "Epoch 54/100\n",
      "\u001b[1m528/528\u001b[0m \u001b[32m━━━━━━━━━━━━━━━━━━━━\u001b[0m\u001b[37m\u001b[0m \u001b[1m5s\u001b[0m 6ms/step - accuracy: 0.7818 - loss: 0.5248 - val_accuracy: 0.7723 - val_loss: 0.5367\n",
      "Epoch 55/100\n",
      "\u001b[1m528/528\u001b[0m \u001b[32m━━━━━━━━━━━━━━━━━━━━\u001b[0m\u001b[37m\u001b[0m \u001b[1m5s\u001b[0m 5ms/step - accuracy: 0.7792 - loss: 0.5280 - val_accuracy: 0.7723 - val_loss: 0.5369\n",
      "Epoch 56/100\n",
      "\u001b[1m528/528\u001b[0m \u001b[32m━━━━━━━━━━━━━━━━━━━━\u001b[0m\u001b[37m\u001b[0m \u001b[1m3s\u001b[0m 5ms/step - accuracy: 0.7793 - loss: 0.5278 - val_accuracy: 0.7723 - val_loss: 0.5368\n",
      "Epoch 57/100\n",
      "\u001b[1m528/528\u001b[0m \u001b[32m━━━━━━━━━━━━━━━━━━━━\u001b[0m\u001b[37m\u001b[0m \u001b[1m5s\u001b[0m 5ms/step - accuracy: 0.7777 - loss: 0.5299 - val_accuracy: 0.7723 - val_loss: 0.5376\n",
      "Epoch 58/100\n",
      "\u001b[1m528/528\u001b[0m \u001b[32m━━━━━━━━━━━━━━━━━━━━\u001b[0m\u001b[37m\u001b[0m \u001b[1m2s\u001b[0m 4ms/step - accuracy: 0.7787 - loss: 0.5289 - val_accuracy: 0.7723 - val_loss: 0.5367\n",
      "Epoch 59/100\n",
      "\u001b[1m528/528\u001b[0m \u001b[32m━━━━━━━━━━━━━━━━━━━━\u001b[0m\u001b[37m\u001b[0m \u001b[1m2s\u001b[0m 3ms/step - accuracy: 0.7804 - loss: 0.5264 - val_accuracy: 0.7723 - val_loss: 0.5368\n",
      "Epoch 60/100\n",
      "\u001b[1m528/528\u001b[0m \u001b[32m━━━━━━━━━━━━━━━━━━━━\u001b[0m\u001b[37m\u001b[0m \u001b[1m3s\u001b[0m 4ms/step - accuracy: 0.7787 - loss: 0.5286 - val_accuracy: 0.7723 - val_loss: 0.5366\n",
      "Epoch 61/100\n",
      "\u001b[1m528/528\u001b[0m \u001b[32m━━━━━━━━━━━━━━━━━━━━\u001b[0m\u001b[37m\u001b[0m \u001b[1m2s\u001b[0m 4ms/step - accuracy: 0.7786 - loss: 0.5288 - val_accuracy: 0.7723 - val_loss: 0.5365\n",
      "Epoch 62/100\n",
      "\u001b[1m528/528\u001b[0m \u001b[32m━━━━━━━━━━━━━━━━━━━━\u001b[0m\u001b[37m\u001b[0m \u001b[1m4s\u001b[0m 6ms/step - accuracy: 0.7761 - loss: 0.5318 - val_accuracy: 0.7723 - val_loss: 0.5371\n",
      "Epoch 63/100\n",
      "\u001b[1m528/528\u001b[0m \u001b[32m━━━━━━━━━━━━━━━━━━━━\u001b[0m\u001b[37m\u001b[0m \u001b[1m4s\u001b[0m 3ms/step - accuracy: 0.7789 - loss: 0.5283 - val_accuracy: 0.7723 - val_loss: 0.5367\n",
      "Epoch 64/100\n",
      "\u001b[1m528/528\u001b[0m \u001b[32m━━━━━━━━━━━━━━━━━━━━\u001b[0m\u001b[37m\u001b[0m \u001b[1m3s\u001b[0m 3ms/step - accuracy: 0.7772 - loss: 0.5305 - val_accuracy: 0.7723 - val_loss: 0.5369\n",
      "Epoch 65/100\n",
      "\u001b[1m528/528\u001b[0m \u001b[32m━━━━━━━━━━━━━━━━━━━━\u001b[0m\u001b[37m\u001b[0m \u001b[1m2s\u001b[0m 2ms/step - accuracy: 0.7779 - loss: 0.5297 - val_accuracy: 0.7723 - val_loss: 0.5366\n",
      "Epoch 66/100\n",
      "\u001b[1m528/528\u001b[0m \u001b[32m━━━━━━━━━━━━━━━━━━━━\u001b[0m\u001b[37m\u001b[0m \u001b[1m2s\u001b[0m 3ms/step - accuracy: 0.7774 - loss: 0.5303 - val_accuracy: 0.7723 - val_loss: 0.5371\n",
      "Epoch 67/100\n",
      "\u001b[1m528/528\u001b[0m \u001b[32m━━━━━━━━━━━━━━━━━━━━\u001b[0m\u001b[37m\u001b[0m \u001b[1m2s\u001b[0m 2ms/step - accuracy: 0.7795 - loss: 0.5276 - val_accuracy: 0.7723 - val_loss: 0.5365\n",
      "Epoch 68/100\n",
      "\u001b[1m528/528\u001b[0m \u001b[32m━━━━━━━━━━━━━━━━━━━━\u001b[0m\u001b[37m\u001b[0m \u001b[1m1s\u001b[0m 1ms/step - accuracy: 0.7769 - loss: 0.5309 - val_accuracy: 0.7723 - val_loss: 0.5371\n",
      "Epoch 69/100\n",
      "\u001b[1m528/528\u001b[0m \u001b[32m━━━━━━━━━━━━━━━━━━━━\u001b[0m\u001b[37m\u001b[0m \u001b[1m1s\u001b[0m 1ms/step - accuracy: 0.7793 - loss: 0.5279 - val_accuracy: 0.7723 - val_loss: 0.5372\n",
      "Epoch 70/100\n",
      "\u001b[1m528/528\u001b[0m \u001b[32m━━━━━━━━━━━━━━━━━━━━\u001b[0m\u001b[37m\u001b[0m \u001b[1m1s\u001b[0m 2ms/step - accuracy: 0.7801 - loss: 0.5268 - val_accuracy: 0.7723 - val_loss: 0.5367\n",
      "Epoch 71/100\n",
      "\u001b[1m528/528\u001b[0m \u001b[32m━━━━━━━━━━━━━━━━━━━━\u001b[0m\u001b[37m\u001b[0m \u001b[1m2s\u001b[0m 2ms/step - accuracy: 0.7796 - loss: 0.5275 - val_accuracy: 0.7723 - val_loss: 0.5371\n",
      "Epoch 72/100\n",
      "\u001b[1m528/528\u001b[0m \u001b[32m━━━━━━━━━━━━━━━━━━━━\u001b[0m\u001b[37m\u001b[0m \u001b[1m2s\u001b[0m 3ms/step - accuracy: 0.7843 - loss: 0.5215 - val_accuracy: 0.7723 - val_loss: 0.5367\n",
      "Epoch 73/100\n",
      "\u001b[1m528/528\u001b[0m \u001b[32m━━━━━━━━━━━━━━━━━━━━\u001b[0m\u001b[37m\u001b[0m \u001b[1m2s\u001b[0m 2ms/step - accuracy: 0.7786 - loss: 0.5287 - val_accuracy: 0.7723 - val_loss: 0.5367\n",
      "Epoch 74/100\n",
      "\u001b[1m528/528\u001b[0m \u001b[32m━━━━━━━━━━━━━━━━━━━━\u001b[0m\u001b[37m\u001b[0m \u001b[1m1s\u001b[0m 2ms/step - accuracy: 0.7763 - loss: 0.5316 - val_accuracy: 0.7723 - val_loss: 0.5367\n",
      "Epoch 75/100\n",
      "\u001b[1m528/528\u001b[0m \u001b[32m━━━━━━━━━━━━━━━━━━━━\u001b[0m\u001b[37m\u001b[0m \u001b[1m1s\u001b[0m 3ms/step - accuracy: 0.7791 - loss: 0.5281 - val_accuracy: 0.7723 - val_loss: 0.5366\n",
      "Epoch 76/100\n",
      "\u001b[1m528/528\u001b[0m \u001b[32m━━━━━━━━━━━━━━━━━━━━\u001b[0m\u001b[37m\u001b[0m \u001b[1m2s\u001b[0m 2ms/step - accuracy: 0.7823 - loss: 0.5241 - val_accuracy: 0.7723 - val_loss: 0.5366\n",
      "Epoch 77/100\n",
      "\u001b[1m528/528\u001b[0m \u001b[32m━━━━━━━━━━━━━━━━━━━━\u001b[0m\u001b[37m\u001b[0m \u001b[1m1s\u001b[0m 3ms/step - accuracy: 0.7831 - loss: 0.5231 - val_accuracy: 0.7723 - val_loss: 0.5365\n",
      "Epoch 78/100\n",
      "\u001b[1m528/528\u001b[0m \u001b[32m━━━━━━━━━━━━━━━━━━━━\u001b[0m\u001b[37m\u001b[0m \u001b[1m2s\u001b[0m 3ms/step - accuracy: 0.7826 - loss: 0.5238 - val_accuracy: 0.7723 - val_loss: 0.5370\n",
      "Epoch 79/100\n",
      "\u001b[1m528/528\u001b[0m \u001b[32m━━━━━━━━━━━━━━━━━━━━\u001b[0m\u001b[37m\u001b[0m \u001b[1m2s\u001b[0m 2ms/step - accuracy: 0.7802 - loss: 0.5268 - val_accuracy: 0.7723 - val_loss: 0.5366\n",
      "Epoch 80/100\n",
      "\u001b[1m528/528\u001b[0m \u001b[32m━━━━━━━━━━━━━━━━━━━━\u001b[0m\u001b[37m\u001b[0m \u001b[1m1s\u001b[0m 3ms/step - accuracy: 0.7814 - loss: 0.5252 - val_accuracy: 0.7723 - val_loss: 0.5366\n",
      "Epoch 81/100\n",
      "\u001b[1m528/528\u001b[0m \u001b[32m━━━━━━━━━━━━━━━━━━━━\u001b[0m\u001b[37m\u001b[0m \u001b[1m2s\u001b[0m 2ms/step - accuracy: 0.7754 - loss: 0.5326 - val_accuracy: 0.7723 - val_loss: 0.5367\n",
      "Epoch 82/100\n",
      "\u001b[1m528/528\u001b[0m \u001b[32m━━━━━━━━━━━━━━━━━━━━\u001b[0m\u001b[37m\u001b[0m \u001b[1m2s\u001b[0m 3ms/step - accuracy: 0.7788 - loss: 0.5285 - val_accuracy: 0.7723 - val_loss: 0.5369\n",
      "Epoch 83/100\n",
      "\u001b[1m528/528\u001b[0m \u001b[32m━━━━━━━━━━━━━━━━━━━━\u001b[0m\u001b[37m\u001b[0m \u001b[1m2s\u001b[0m 3ms/step - accuracy: 0.7796 - loss: 0.5275 - val_accuracy: 0.7723 - val_loss: 0.5366\n",
      "Epoch 84/100\n",
      "\u001b[1m528/528\u001b[0m \u001b[32m━━━━━━━━━━━━━━━━━━━━\u001b[0m\u001b[37m\u001b[0m \u001b[1m2s\u001b[0m 2ms/step - accuracy: 0.7798 - loss: 0.5273 - val_accuracy: 0.7723 - val_loss: 0.5367\n",
      "Epoch 85/100\n",
      "\u001b[1m528/528\u001b[0m \u001b[32m━━━━━━━━━━━━━━━━━━━━\u001b[0m\u001b[37m\u001b[0m \u001b[1m2s\u001b[0m 2ms/step - accuracy: 0.7791 - loss: 0.5281 - val_accuracy: 0.7723 - val_loss: 0.5366\n",
      "Epoch 86/100\n",
      "\u001b[1m528/528\u001b[0m \u001b[32m━━━━━━━━━━━━━━━━━━━━\u001b[0m\u001b[37m\u001b[0m \u001b[1m1s\u001b[0m 2ms/step - accuracy: 0.7759 - loss: 0.5321 - val_accuracy: 0.7723 - val_loss: 0.5368\n",
      "Epoch 87/100\n",
      "\u001b[1m528/528\u001b[0m \u001b[32m━━━━━━━━━━━━━━━━━━━━\u001b[0m\u001b[37m\u001b[0m \u001b[1m1s\u001b[0m 2ms/step - accuracy: 0.7756 - loss: 0.5326 - val_accuracy: 0.7723 - val_loss: 0.5370\n",
      "Epoch 88/100\n",
      "\u001b[1m528/528\u001b[0m \u001b[32m━━━━━━━━━━━━━━━━━━━━\u001b[0m\u001b[37m\u001b[0m \u001b[1m2s\u001b[0m 3ms/step - accuracy: 0.7819 - loss: 0.5246 - val_accuracy: 0.7723 - val_loss: 0.5368\n",
      "Epoch 89/100\n",
      "\u001b[1m528/528\u001b[0m \u001b[32m━━━━━━━━━━━━━━━━━━━━\u001b[0m\u001b[37m\u001b[0m \u001b[1m2s\u001b[0m 2ms/step - accuracy: 0.7784 - loss: 0.5290 - val_accuracy: 0.7723 - val_loss: 0.5376\n",
      "Epoch 90/100\n",
      "\u001b[1m528/528\u001b[0m \u001b[32m━━━━━━━━━━━━━━━━━━━━\u001b[0m\u001b[37m\u001b[0m \u001b[1m3s\u001b[0m 3ms/step - accuracy: 0.7777 - loss: 0.5301 - val_accuracy: 0.7723 - val_loss: 0.5366\n",
      "Epoch 91/100\n",
      "\u001b[1m528/528\u001b[0m \u001b[32m━━━━━━━━━━━━━━━━━━━━\u001b[0m\u001b[37m\u001b[0m \u001b[1m2s\u001b[0m 2ms/step - accuracy: 0.7787 - loss: 0.5286 - val_accuracy: 0.7723 - val_loss: 0.5369\n",
      "Epoch 92/100\n",
      "\u001b[1m528/528\u001b[0m \u001b[32m━━━━━━━━━━━━━━━━━━━━\u001b[0m\u001b[37m\u001b[0m \u001b[1m1s\u001b[0m 2ms/step - accuracy: 0.7759 - loss: 0.5322 - val_accuracy: 0.7723 - val_loss: 0.5371\n",
      "Epoch 93/100\n",
      "\u001b[1m528/528\u001b[0m \u001b[32m━━━━━━━━━━━━━━━━━━━━\u001b[0m\u001b[37m\u001b[0m \u001b[1m2s\u001b[0m 3ms/step - accuracy: 0.7785 - loss: 0.5289 - val_accuracy: 0.7723 - val_loss: 0.5366\n",
      "Epoch 94/100\n",
      "\u001b[1m528/528\u001b[0m \u001b[32m━━━━━━━━━━━━━━━━━━━━\u001b[0m\u001b[37m\u001b[0m \u001b[1m4s\u001b[0m 5ms/step - accuracy: 0.7785 - loss: 0.5290 - val_accuracy: 0.7723 - val_loss: 0.5368\n",
      "Epoch 95/100\n",
      "\u001b[1m528/528\u001b[0m \u001b[32m━━━━━━━━━━━━━━━━━━━━\u001b[0m\u001b[37m\u001b[0m \u001b[1m2s\u001b[0m 3ms/step - accuracy: 0.7823 - loss: 0.5240 - val_accuracy: 0.7723 - val_loss: 0.5366\n",
      "Epoch 96/100\n",
      "\u001b[1m528/528\u001b[0m \u001b[32m━━━━━━━━━━━━━━━━━━━━\u001b[0m\u001b[37m\u001b[0m \u001b[1m2s\u001b[0m 2ms/step - accuracy: 0.7789 - loss: 0.5283 - val_accuracy: 0.7723 - val_loss: 0.5366\n",
      "Epoch 97/100\n",
      "\u001b[1m528/528\u001b[0m \u001b[32m━━━━━━━━━━━━━━━━━━━━\u001b[0m\u001b[37m\u001b[0m \u001b[1m3s\u001b[0m 3ms/step - accuracy: 0.7781 - loss: 0.5294 - val_accuracy: 0.7723 - val_loss: 0.5366\n",
      "Epoch 98/100\n",
      "\u001b[1m528/528\u001b[0m \u001b[32m━━━━━━━━━━━━━━━━━━━━\u001b[0m\u001b[37m\u001b[0m \u001b[1m1s\u001b[0m 1ms/step - accuracy: 0.7822 - loss: 0.5242 - val_accuracy: 0.7723 - val_loss: 0.5365\n",
      "Epoch 99/100\n",
      "\u001b[1m528/528\u001b[0m \u001b[32m━━━━━━━━━━━━━━━━━━━━\u001b[0m\u001b[37m\u001b[0m \u001b[1m2s\u001b[0m 2ms/step - accuracy: 0.7787 - loss: 0.5287 - val_accuracy: 0.7723 - val_loss: 0.5371\n",
      "Epoch 100/100\n",
      "\u001b[1m528/528\u001b[0m \u001b[32m━━━━━━━━━━━━━━━━━━━━\u001b[0m\u001b[37m\u001b[0m \u001b[1m3s\u001b[0m 2ms/step - accuracy: 0.7790 - loss: 0.5283 - val_accuracy: 0.7723 - val_loss: 0.5367\n"
     ]
    }
   ],
   "source": [
    "# Define the model\n",
    "nn2 = keras.Sequential([\n",
    "    layers.Dense(64, activation=\"relu\", input_shape=(x_train.shape[1],)),\n",
    "    layers.Dense(32, activation=\"relu\"),\n",
    "    layers.Dense(16, activation=\"relu\"),\n",
    "    layers.Dense(1, activation=\"sigmoid\")  # Output layer for binary classification\n",
    "])\n",
    "\n",
    "# Compile the model\n",
    "nn2.compile(optimizer=\"adam\", loss=\"binary_crossentropy\", metrics=[\"accuracy\"])\n",
    "\n",
    "# Train the model\n",
    "history = nn2.fit(x_train, y_train, epochs=100, batch_size= 64, validation_data=(x_test, y_test))"
   ]
  },
  {
   "cell_type": "code",
   "execution_count": 827,
   "id": "78cb158f-4170-45ca-9a8c-a43d04d2fa25",
   "metadata": {},
   "outputs": [
    {
     "name": "stdout",
     "output_type": "stream",
     "text": [
      "\u001b[1m1055/1055\u001b[0m \u001b[32m━━━━━━━━━━━━━━━━━━━━\u001b[0m\u001b[37m\u001b[0m \u001b[1m1s\u001b[0m 1ms/step\n",
      "\u001b[1m352/352\u001b[0m \u001b[32m━━━━━━━━━━━━━━━━━━━━\u001b[0m\u001b[37m\u001b[0m \u001b[1m0s\u001b[0m 830us/step\n"
     ]
    }
   ],
   "source": [
    "ytrain22 = (nn2.predict(x_train) > 0.5).astype(int)\n",
    "y_pred3 = (nn2.predict(x_test) > 0.5).astype(int)"
   ]
  },
  {
   "cell_type": "code",
   "execution_count": 829,
   "id": "cd8d45ba-2df2-4ca8-b817-d99504fc0788",
   "metadata": {},
   "outputs": [
    {
     "data": {
      "text/plain": [
       "0.7697777777777778"
      ]
     },
     "execution_count": 829,
     "metadata": {},
     "output_type": "execute_result"
    }
   ],
   "source": [
    "accuracy = accuracy_score(y_pred3, y_test)\n",
    "accuracyt2 = accuracy_score(y_train, ytrain22)\n",
    "accuracy"
   ]
  },
  {
   "cell_type": "code",
   "execution_count": 831,
   "id": "8e8b81e1-7f3a-4dd8-a0a2-2dfbe07c13b9",
   "metadata": {},
   "outputs": [
    {
     "data": {
      "text/plain": [
       "0.23022222222222222"
      ]
     },
     "execution_count": 831,
     "metadata": {},
     "output_type": "execute_result"
    }
   ],
   "source": [
    "error = 1-accuracy \n",
    "error"
   ]
  },
  {
   "cell_type": "code",
   "execution_count": 833,
   "id": "1ecd70b9-447d-41fb-97c1-724bdc01b684",
   "metadata": {},
   "outputs": [
    {
     "data": {
      "text/plain": [
       "0.2195555555555555"
      ]
     },
     "execution_count": 833,
     "metadata": {},
     "output_type": "execute_result"
    }
   ],
   "source": [
    "errort = 1-accuracyt2\n",
    "errort\n"
   ]
  },
  {
   "cell_type": "code",
   "execution_count": 835,
   "id": "e34c020a-5856-4950-943d-42149c50d3c4",
   "metadata": {},
   "outputs": [],
   "source": [
    "\n",
    "conf3 = confusion_matrix(y_pred3, y_test) "
   ]
  },
  {
   "cell_type": "code",
   "execution_count": 837,
   "id": "b7d2ddf1-e1b5-4f99-8dae-ebe2b45e9579",
   "metadata": {},
   "outputs": [
    {
     "data": {
      "text/plain": [
       "<Figure size 800x600 with 0 Axes>"
      ]
     },
     "metadata": {},
     "output_type": "display_data"
    },
    {
     "data": {
      "image/png": "[encoded data removed]",
      "text/plain": [
       "<Figure size 640x480 with 2 Axes>"
      ]
     },
     "metadata": {},
     "output_type": "display_data"
    }
   ],
   "source": [
    "disp = ConfusionMatrixDisplay(conf3, display_labels = [0,1])\n",
    "plt.figure(figsize = (8,6))\n",
    "disp.plot(cmap = plt.cm.Reds)\n",
    "\n",
    "plt.show()"
   ]
  },
  {
   "cell_type": "code",
   "execution_count": 808,
   "id": "b8d14de0-a20e-42c9-bdb1-1037c3b013ac",
   "metadata": {},
   "outputs": [],
   "source": [
    "accuracy = accuracy_score(y_pred3, y_test)"
   ]
  },
  {
   "cell_type": "code",
   "execution_count": 810,
   "id": "b0562e60-15c8-45a4-9c43-ec2a5c9490dd",
   "metadata": {},
   "outputs": [
    {
     "data": {
      "text/plain": [
       "0.6698666666666667"
      ]
     },
     "execution_count": 810,
     "metadata": {},
     "output_type": "execute_result"
    }
   ],
   "source": [
    "accuracy"
   ]
  },
  {
   "cell_type": "code",
   "execution_count": 839,
   "id": "b001d58f-def2-4cb5-875a-e5dbf0d5d58d",
   "metadata": {},
   "outputs": [
    {
     "data": {
      "text/plain": [
       "<Figure size 800x600 with 0 Axes>"
      ]
     },
     "metadata": {},
     "output_type": "display_data"
    },
    {
     "data": {
      "image/png": "[encoded data removed]",
      "text/plain": [
       "<Figure size 640x480 with 2 Axes>"
      ]
     },
     "metadata": {},
     "output_type": "display_data"
    }
   ],
   "source": [
    "disp = ConfusionMatrixDisplay(conf3, display_labels = [0,1])\n",
    "plt.figure(figsize = (8,6))\n",
    "disp.plot(cmap = plt.cm.Reds)\n",
    "\n",
    "plt.show()"
   ]
  },
  {
   "cell_type": "code",
   "execution_count": 814,
   "id": "792d9ba7-4f13-49c2-88b8-0e63c8ef7557",
   "metadata": {},
   "outputs": [
    {
     "name": "stdout",
     "output_type": "stream",
     "text": [
      "Training MSE: 0.21955555555555556\n",
      "Testing MSE: 0.33013333333333333\n"
     ]
    }
   ],
   "source": [
    "train_mse1 = mean_squared_error(y_train, ytrain22)\n",
    "print(f\"Training MSE: {train_mse1}\")\n",
    "Test_mse1 = mean_squared_error(y_test, y_pred3)\n",
    "print(f\"Testing MSE: {Test_mse1}\")\n"
   ]
  },
  {
   "cell_type": "code",
   "execution_count": null,
   "id": "6a593c3f-941b-45f1-b356-4385a49f65c7",
   "metadata": {},
   "outputs": [],
   "source": []
  },
  {
   "cell_type": "code",
   "execution_count": null,
   "id": "b4c0e0d9-40fd-4bb2-98ed-063aa180ff42",
   "metadata": {},
   "outputs": [],
   "source": []
  }
 ],
 "metadata": {
  "kernelspec": {
   "display_name": "Python [conda env:base] *",
   "language": "python",
   "name": "conda-base-py"
  },
  "language_info": {
   "codemirror_mode": {
    "name": "ipython",
    "version": 3
   },
   "file_extension": ".py",
   "mimetype": "text/x-python",
   "name": "python",
   "nbconvert_exporter": "python",
   "pygments_lexer": "ipython3",
   "version": "3.12.7"
  }
 },
 "nbformat": 4,
 "nbformat_minor": 5
}
